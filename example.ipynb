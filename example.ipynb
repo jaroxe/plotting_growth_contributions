{
 "cells": [
  {
   "cell_type": "markdown",
   "metadata": {},
   "source": [
    "# Plotting contributions to growth in Python using bokeh"
   ]
  },
  {
   "cell_type": "markdown",
   "metadata": {},
   "source": [
    "This notebook shows an example of how to use the `plot_contributions` function to plot contributions to growth."
   ]
  },
  {
   "cell_type": "code",
   "execution_count": 1,
   "metadata": {},
   "outputs": [
    {
     "data": {
      "text/html": [
       "\n",
       "    <div class=\"bk-root\">\n",
       "        <a href=\"https://bokeh.pydata.org\" target=\"_blank\" class=\"bk-logo bk-logo-small bk-logo-notebook\"></a>\n",
       "        <span id=\"3d077f5b-26ad-428b-9c79-ccab1cb11e05\">Loading BokehJS ...</span>\n",
       "    </div>"
      ]
     },
     "metadata": {},
     "output_type": "display_data"
    },
    {
     "data": {
      "application/javascript": [
       "\n",
       "(function(root) {\n",
       "  function now() {\n",
       "    return new Date();\n",
       "  }\n",
       "\n",
       "  var force = true;\n",
       "\n",
       "  if (typeof (root._bokeh_onload_callbacks) === \"undefined\" || force === true) {\n",
       "    root._bokeh_onload_callbacks = [];\n",
       "    root._bokeh_is_loading = undefined;\n",
       "  }\n",
       "\n",
       "  var JS_MIME_TYPE = 'application/javascript';\n",
       "  var HTML_MIME_TYPE = 'text/html';\n",
       "  var EXEC_MIME_TYPE = 'application/vnd.bokehjs_exec.v0+json';\n",
       "  var CLASS_NAME = 'output_bokeh rendered_html';\n",
       "\n",
       "  /**\n",
       "   * Render data to the DOM node\n",
       "   */\n",
       "  function render(props, node) {\n",
       "    var script = document.createElement(\"script\");\n",
       "    node.appendChild(script);\n",
       "  }\n",
       "\n",
       "  /**\n",
       "   * Handle when an output is cleared or removed\n",
       "   */\n",
       "  function handleClearOutput(event, handle) {\n",
       "    var cell = handle.cell;\n",
       "\n",
       "    var id = cell.output_area._bokeh_element_id;\n",
       "    var server_id = cell.output_area._bokeh_server_id;\n",
       "    // Clean up Bokeh references\n",
       "    if (id !== undefined) {\n",
       "      Bokeh.index[id].model.document.clear();\n",
       "      delete Bokeh.index[id];\n",
       "    }\n",
       "\n",
       "    if (server_id !== undefined) {\n",
       "      // Clean up Bokeh references\n",
       "      var cmd = \"from bokeh.io.state import curstate; print(curstate().uuid_to_server['\" + server_id + \"'].get_sessions()[0].document.roots[0]._id)\";\n",
       "      cell.notebook.kernel.execute(cmd, {\n",
       "        iopub: {\n",
       "          output: function(msg) {\n",
       "            var element_id = msg.content.text.trim();\n",
       "            Bokeh.index[element_id].model.document.clear();\n",
       "            delete Bokeh.index[element_id];\n",
       "          }\n",
       "        }\n",
       "      });\n",
       "      // Destroy server and session\n",
       "      var cmd = \"import bokeh.io.notebook as ion; ion.destroy_server('\" + server_id + \"')\";\n",
       "      cell.notebook.kernel.execute(cmd);\n",
       "    }\n",
       "  }\n",
       "\n",
       "  /**\n",
       "   * Handle when a new output is added\n",
       "   */\n",
       "  function handleAddOutput(event, handle) {\n",
       "    var output_area = handle.output_area;\n",
       "    var output = handle.output;\n",
       "\n",
       "    // limit handleAddOutput to display_data with EXEC_MIME_TYPE content only\n",
       "    if ((output.output_type != \"display_data\") || (!output.data.hasOwnProperty(EXEC_MIME_TYPE))) {\n",
       "      return\n",
       "    }\n",
       "\n",
       "    var toinsert = output_area.element.find(\".\" + CLASS_NAME.split(' ')[0]);\n",
       "\n",
       "    if (output.metadata[EXEC_MIME_TYPE][\"id\"] !== undefined) {\n",
       "      toinsert[toinsert.length - 1].firstChild.textContent = output.data[JS_MIME_TYPE];\n",
       "      // store reference to embed id on output_area\n",
       "      output_area._bokeh_element_id = output.metadata[EXEC_MIME_TYPE][\"id\"];\n",
       "    }\n",
       "    if (output.metadata[EXEC_MIME_TYPE][\"server_id\"] !== undefined) {\n",
       "      var bk_div = document.createElement(\"div\");\n",
       "      bk_div.innerHTML = output.data[HTML_MIME_TYPE];\n",
       "      var script_attrs = bk_div.children[0].attributes;\n",
       "      for (var i = 0; i < script_attrs.length; i++) {\n",
       "        toinsert[toinsert.length - 1].firstChild.setAttribute(script_attrs[i].name, script_attrs[i].value);\n",
       "      }\n",
       "      // store reference to server id on output_area\n",
       "      output_area._bokeh_server_id = output.metadata[EXEC_MIME_TYPE][\"server_id\"];\n",
       "    }\n",
       "  }\n",
       "\n",
       "  function register_renderer(events, OutputArea) {\n",
       "\n",
       "    function append_mime(data, metadata, element) {\n",
       "      // create a DOM node to render to\n",
       "      var toinsert = this.create_output_subarea(\n",
       "        metadata,\n",
       "        CLASS_NAME,\n",
       "        EXEC_MIME_TYPE\n",
       "      );\n",
       "      this.keyboard_manager.register_events(toinsert);\n",
       "      // Render to node\n",
       "      var props = {data: data, metadata: metadata[EXEC_MIME_TYPE]};\n",
       "      render(props, toinsert[toinsert.length - 1]);\n",
       "      element.append(toinsert);\n",
       "      return toinsert\n",
       "    }\n",
       "\n",
       "    /* Handle when an output is cleared or removed */\n",
       "    events.on('clear_output.CodeCell', handleClearOutput);\n",
       "    events.on('delete.Cell', handleClearOutput);\n",
       "\n",
       "    /* Handle when a new output is added */\n",
       "    events.on('output_added.OutputArea', handleAddOutput);\n",
       "\n",
       "    /**\n",
       "     * Register the mime type and append_mime function with output_area\n",
       "     */\n",
       "    OutputArea.prototype.register_mime_type(EXEC_MIME_TYPE, append_mime, {\n",
       "      /* Is output safe? */\n",
       "      safe: true,\n",
       "      /* Index of renderer in `output_area.display_order` */\n",
       "      index: 0\n",
       "    });\n",
       "  }\n",
       "\n",
       "  // register the mime type if in Jupyter Notebook environment and previously unregistered\n",
       "  if (root.Jupyter !== undefined) {\n",
       "    var events = require('base/js/events');\n",
       "    var OutputArea = require('notebook/js/outputarea').OutputArea;\n",
       "\n",
       "    if (OutputArea.prototype.mime_types().indexOf(EXEC_MIME_TYPE) == -1) {\n",
       "      register_renderer(events, OutputArea);\n",
       "    }\n",
       "  }\n",
       "\n",
       "  \n",
       "  if (typeof (root._bokeh_timeout) === \"undefined\" || force === true) {\n",
       "    root._bokeh_timeout = Date.now() + 5000;\n",
       "    root._bokeh_failed_load = false;\n",
       "  }\n",
       "\n",
       "  var NB_LOAD_WARNING = {'data': {'text/html':\n",
       "     \"<div style='background-color: #fdd'>\\n\"+\n",
       "     \"<p>\\n\"+\n",
       "     \"BokehJS does not appear to have successfully loaded. If loading BokehJS from CDN, this \\n\"+\n",
       "     \"may be due to a slow or bad network connection. Possible fixes:\\n\"+\n",
       "     \"</p>\\n\"+\n",
       "     \"<ul>\\n\"+\n",
       "     \"<li>re-rerun `output_notebook()` to attempt to load from CDN again, or</li>\\n\"+\n",
       "     \"<li>use INLINE resources instead, as so:</li>\\n\"+\n",
       "     \"</ul>\\n\"+\n",
       "     \"<code>\\n\"+\n",
       "     \"from bokeh.resources import INLINE\\n\"+\n",
       "     \"output_notebook(resources=INLINE)\\n\"+\n",
       "     \"</code>\\n\"+\n",
       "     \"</div>\"}};\n",
       "\n",
       "  function display_loaded() {\n",
       "    var el = document.getElementById(\"3d077f5b-26ad-428b-9c79-ccab1cb11e05\");\n",
       "    if (el != null) {\n",
       "      el.textContent = \"BokehJS is loading...\";\n",
       "    }\n",
       "    if (root.Bokeh !== undefined) {\n",
       "      if (el != null) {\n",
       "        el.textContent = \"BokehJS \" + root.Bokeh.version + \" successfully loaded.\";\n",
       "      }\n",
       "    } else if (Date.now() < root._bokeh_timeout) {\n",
       "      setTimeout(display_loaded, 100)\n",
       "    }\n",
       "  }\n",
       "\n",
       "\n",
       "  function run_callbacks() {\n",
       "    try {\n",
       "      root._bokeh_onload_callbacks.forEach(function(callback) { callback() });\n",
       "    }\n",
       "    finally {\n",
       "      delete root._bokeh_onload_callbacks\n",
       "    }\n",
       "    console.info(\"Bokeh: all callbacks have finished\");\n",
       "  }\n",
       "\n",
       "  function load_libs(js_urls, callback) {\n",
       "    root._bokeh_onload_callbacks.push(callback);\n",
       "    if (root._bokeh_is_loading > 0) {\n",
       "      console.log(\"Bokeh: BokehJS is being loaded, scheduling callback at\", now());\n",
       "      return null;\n",
       "    }\n",
       "    if (js_urls == null || js_urls.length === 0) {\n",
       "      run_callbacks();\n",
       "      return null;\n",
       "    }\n",
       "    console.log(\"Bokeh: BokehJS not loaded, scheduling load and callback at\", now());\n",
       "    root._bokeh_is_loading = js_urls.length;\n",
       "    for (var i = 0; i < js_urls.length; i++) {\n",
       "      var url = js_urls[i];\n",
       "      var s = document.createElement('script');\n",
       "      s.src = url;\n",
       "      s.async = false;\n",
       "      s.onreadystatechange = s.onload = function() {\n",
       "        root._bokeh_is_loading--;\n",
       "        if (root._bokeh_is_loading === 0) {\n",
       "          console.log(\"Bokeh: all BokehJS libraries loaded\");\n",
       "          run_callbacks()\n",
       "        }\n",
       "      };\n",
       "      s.onerror = function() {\n",
       "        console.warn(\"failed to load library \" + url);\n",
       "      };\n",
       "      console.log(\"Bokeh: injecting script tag for BokehJS library: \", url);\n",
       "      document.getElementsByTagName(\"head\")[0].appendChild(s);\n",
       "    }\n",
       "  };var element = document.getElementById(\"3d077f5b-26ad-428b-9c79-ccab1cb11e05\");\n",
       "  if (element == null) {\n",
       "    console.log(\"Bokeh: ERROR: autoload.js configured with elementid '3d077f5b-26ad-428b-9c79-ccab1cb11e05' but no matching script tag was found. \")\n",
       "    return false;\n",
       "  }\n",
       "\n",
       "  var js_urls = [\"https://cdn.pydata.org/bokeh/release/bokeh-0.12.15.min.js\", \"https://cdn.pydata.org/bokeh/release/bokeh-widgets-0.12.15.min.js\", \"https://cdn.pydata.org/bokeh/release/bokeh-tables-0.12.15.min.js\", \"https://cdn.pydata.org/bokeh/release/bokeh-gl-0.12.15.min.js\"];\n",
       "\n",
       "  var inline_js = [\n",
       "    function(Bokeh) {\n",
       "      Bokeh.set_log_level(\"info\");\n",
       "    },\n",
       "    \n",
       "    function(Bokeh) {\n",
       "      \n",
       "    },\n",
       "    function(Bokeh) {\n",
       "      console.log(\"Bokeh: injecting CSS: https://cdn.pydata.org/bokeh/release/bokeh-0.12.15.min.css\");\n",
       "      Bokeh.embed.inject_css(\"https://cdn.pydata.org/bokeh/release/bokeh-0.12.15.min.css\");\n",
       "      console.log(\"Bokeh: injecting CSS: https://cdn.pydata.org/bokeh/release/bokeh-widgets-0.12.15.min.css\");\n",
       "      Bokeh.embed.inject_css(\"https://cdn.pydata.org/bokeh/release/bokeh-widgets-0.12.15.min.css\");\n",
       "      console.log(\"Bokeh: injecting CSS: https://cdn.pydata.org/bokeh/release/bokeh-tables-0.12.15.min.css\");\n",
       "      Bokeh.embed.inject_css(\"https://cdn.pydata.org/bokeh/release/bokeh-tables-0.12.15.min.css\");\n",
       "    }\n",
       "  ];\n",
       "\n",
       "  function run_inline_js() {\n",
       "    \n",
       "    if ((root.Bokeh !== undefined) || (force === true)) {\n",
       "      for (var i = 0; i < inline_js.length; i++) {\n",
       "        inline_js[i].call(root, root.Bokeh);\n",
       "      }if (force === true) {\n",
       "        display_loaded();\n",
       "      }} else if (Date.now() < root._bokeh_timeout) {\n",
       "      setTimeout(run_inline_js, 100);\n",
       "    } else if (!root._bokeh_failed_load) {\n",
       "      console.log(\"Bokeh: BokehJS failed to load within specified timeout.\");\n",
       "      root._bokeh_failed_load = true;\n",
       "    } else if (force !== true) {\n",
       "      var cell = $(document.getElementById(\"3d077f5b-26ad-428b-9c79-ccab1cb11e05\")).parents('.cell').data().cell;\n",
       "      cell.output_area.append_execute_result(NB_LOAD_WARNING)\n",
       "    }\n",
       "\n",
       "  }\n",
       "\n",
       "  if (root._bokeh_is_loading === 0) {\n",
       "    console.log(\"Bokeh: BokehJS loaded, going straight to plotting\");\n",
       "    run_inline_js();\n",
       "  } else {\n",
       "    load_libs(js_urls, function() {\n",
       "      console.log(\"Bokeh: BokehJS plotting callback run at\", now());\n",
       "      run_inline_js();\n",
       "    });\n",
       "  }\n",
       "}(window));"
      ],
      "application/vnd.bokehjs_load.v0+json": "\n(function(root) {\n  function now() {\n    return new Date();\n  }\n\n  var force = true;\n\n  if (typeof (root._bokeh_onload_callbacks) === \"undefined\" || force === true) {\n    root._bokeh_onload_callbacks = [];\n    root._bokeh_is_loading = undefined;\n  }\n\n  \n\n  \n  if (typeof (root._bokeh_timeout) === \"undefined\" || force === true) {\n    root._bokeh_timeout = Date.now() + 5000;\n    root._bokeh_failed_load = false;\n  }\n\n  var NB_LOAD_WARNING = {'data': {'text/html':\n     \"<div style='background-color: #fdd'>\\n\"+\n     \"<p>\\n\"+\n     \"BokehJS does not appear to have successfully loaded. If loading BokehJS from CDN, this \\n\"+\n     \"may be due to a slow or bad network connection. Possible fixes:\\n\"+\n     \"</p>\\n\"+\n     \"<ul>\\n\"+\n     \"<li>re-rerun `output_notebook()` to attempt to load from CDN again, or</li>\\n\"+\n     \"<li>use INLINE resources instead, as so:</li>\\n\"+\n     \"</ul>\\n\"+\n     \"<code>\\n\"+\n     \"from bokeh.resources import INLINE\\n\"+\n     \"output_notebook(resources=INLINE)\\n\"+\n     \"</code>\\n\"+\n     \"</div>\"}};\n\n  function display_loaded() {\n    var el = document.getElementById(\"3d077f5b-26ad-428b-9c79-ccab1cb11e05\");\n    if (el != null) {\n      el.textContent = \"BokehJS is loading...\";\n    }\n    if (root.Bokeh !== undefined) {\n      if (el != null) {\n        el.textContent = \"BokehJS \" + root.Bokeh.version + \" successfully loaded.\";\n      }\n    } else if (Date.now() < root._bokeh_timeout) {\n      setTimeout(display_loaded, 100)\n    }\n  }\n\n\n  function run_callbacks() {\n    try {\n      root._bokeh_onload_callbacks.forEach(function(callback) { callback() });\n    }\n    finally {\n      delete root._bokeh_onload_callbacks\n    }\n    console.info(\"Bokeh: all callbacks have finished\");\n  }\n\n  function load_libs(js_urls, callback) {\n    root._bokeh_onload_callbacks.push(callback);\n    if (root._bokeh_is_loading > 0) {\n      console.log(\"Bokeh: BokehJS is being loaded, scheduling callback at\", now());\n      return null;\n    }\n    if (js_urls == null || js_urls.length === 0) {\n      run_callbacks();\n      return null;\n    }\n    console.log(\"Bokeh: BokehJS not loaded, scheduling load and callback at\", now());\n    root._bokeh_is_loading = js_urls.length;\n    for (var i = 0; i < js_urls.length; i++) {\n      var url = js_urls[i];\n      var s = document.createElement('script');\n      s.src = url;\n      s.async = false;\n      s.onreadystatechange = s.onload = function() {\n        root._bokeh_is_loading--;\n        if (root._bokeh_is_loading === 0) {\n          console.log(\"Bokeh: all BokehJS libraries loaded\");\n          run_callbacks()\n        }\n      };\n      s.onerror = function() {\n        console.warn(\"failed to load library \" + url);\n      };\n      console.log(\"Bokeh: injecting script tag for BokehJS library: \", url);\n      document.getElementsByTagName(\"head\")[0].appendChild(s);\n    }\n  };var element = document.getElementById(\"3d077f5b-26ad-428b-9c79-ccab1cb11e05\");\n  if (element == null) {\n    console.log(\"Bokeh: ERROR: autoload.js configured with elementid '3d077f5b-26ad-428b-9c79-ccab1cb11e05' but no matching script tag was found. \")\n    return false;\n  }\n\n  var js_urls = [\"https://cdn.pydata.org/bokeh/release/bokeh-0.12.15.min.js\", \"https://cdn.pydata.org/bokeh/release/bokeh-widgets-0.12.15.min.js\", \"https://cdn.pydata.org/bokeh/release/bokeh-tables-0.12.15.min.js\", \"https://cdn.pydata.org/bokeh/release/bokeh-gl-0.12.15.min.js\"];\n\n  var inline_js = [\n    function(Bokeh) {\n      Bokeh.set_log_level(\"info\");\n    },\n    \n    function(Bokeh) {\n      \n    },\n    function(Bokeh) {\n      console.log(\"Bokeh: injecting CSS: https://cdn.pydata.org/bokeh/release/bokeh-0.12.15.min.css\");\n      Bokeh.embed.inject_css(\"https://cdn.pydata.org/bokeh/release/bokeh-0.12.15.min.css\");\n      console.log(\"Bokeh: injecting CSS: https://cdn.pydata.org/bokeh/release/bokeh-widgets-0.12.15.min.css\");\n      Bokeh.embed.inject_css(\"https://cdn.pydata.org/bokeh/release/bokeh-widgets-0.12.15.min.css\");\n      console.log(\"Bokeh: injecting CSS: https://cdn.pydata.org/bokeh/release/bokeh-tables-0.12.15.min.css\");\n      Bokeh.embed.inject_css(\"https://cdn.pydata.org/bokeh/release/bokeh-tables-0.12.15.min.css\");\n    }\n  ];\n\n  function run_inline_js() {\n    \n    if ((root.Bokeh !== undefined) || (force === true)) {\n      for (var i = 0; i < inline_js.length; i++) {\n        inline_js[i].call(root, root.Bokeh);\n      }if (force === true) {\n        display_loaded();\n      }} else if (Date.now() < root._bokeh_timeout) {\n      setTimeout(run_inline_js, 100);\n    } else if (!root._bokeh_failed_load) {\n      console.log(\"Bokeh: BokehJS failed to load within specified timeout.\");\n      root._bokeh_failed_load = true;\n    } else if (force !== true) {\n      var cell = $(document.getElementById(\"3d077f5b-26ad-428b-9c79-ccab1cb11e05\")).parents('.cell').data().cell;\n      cell.output_area.append_execute_result(NB_LOAD_WARNING)\n    }\n\n  }\n\n  if (root._bokeh_is_loading === 0) {\n    console.log(\"Bokeh: BokehJS loaded, going straight to plotting\");\n    run_inline_js();\n  } else {\n    load_libs(js_urls, function() {\n      console.log(\"Bokeh: BokehJS plotting callback run at\", now());\n      run_inline_js();\n    });\n  }\n}(window));"
     },
     "metadata": {},
     "output_type": "display_data"
    }
   ],
   "source": [
    "from plot_growth_contributions import *\n",
    "df = pd.read_pickle('../SF_crimes_formatted.pickle')\n",
    "output_notebook()"
   ]
  },
  {
   "cell_type": "markdown",
   "metadata": {},
   "source": [
    "## The data"
   ]
  },
  {
   "cell_type": "markdown",
   "metadata": {},
   "source": [
    "For this example we will use data on property-related crimes in San Francisco during the 2005-2015 period. Rows in the dataset represent years and columns represent catogories (the type of property related crime). Each entry in the dataframe represents the number of incidents for a given year-category combination."
   ]
  },
  {
   "cell_type": "code",
   "execution_count": 2,
   "metadata": {},
   "outputs": [
    {
     "data": {
      "text/html": [
       "<div>\n",
       "<style>\n",
       "    .dataframe thead tr:only-child th {\n",
       "        text-align: right;\n",
       "    }\n",
       "\n",
       "    .dataframe thead th {\n",
       "        text-align: left;\n",
       "    }\n",
       "\n",
       "    .dataframe tbody tr th {\n",
       "        vertical-align: top;\n",
       "    }\n",
       "</style>\n",
       "<table border=\"1\" class=\"dataframe\">\n",
       "  <thead>\n",
       "    <tr style=\"text-align: right;\">\n",
       "      <th>Category</th>\n",
       "      <th>ARSON</th>\n",
       "      <th>BURGLARY</th>\n",
       "      <th>LARCENY/THEFT</th>\n",
       "      <th>STOLEN PROPERTY</th>\n",
       "      <th>VANDALISM</th>\n",
       "      <th>VEHICLE THEFT</th>\n",
       "    </tr>\n",
       "    <tr>\n",
       "      <th>year</th>\n",
       "      <th></th>\n",
       "      <th></th>\n",
       "      <th></th>\n",
       "      <th></th>\n",
       "      <th></th>\n",
       "      <th></th>\n",
       "    </tr>\n",
       "  </thead>\n",
       "  <tbody>\n",
       "    <tr>\n",
       "      <th>2005</th>\n",
       "      <td>231</td>\n",
       "      <td>7071</td>\n",
       "      <td>25319</td>\n",
       "      <td>540</td>\n",
       "      <td>7013</td>\n",
       "      <td>18194</td>\n",
       "    </tr>\n",
       "    <tr>\n",
       "      <th>2006</th>\n",
       "      <td>240</td>\n",
       "      <td>7004</td>\n",
       "      <td>27352</td>\n",
       "      <td>575</td>\n",
       "      <td>7688</td>\n",
       "      <td>7291</td>\n",
       "    </tr>\n",
       "    <tr>\n",
       "      <th>2007</th>\n",
       "      <td>246</td>\n",
       "      <td>5454</td>\n",
       "      <td>25770</td>\n",
       "      <td>527</td>\n",
       "      <td>7566</td>\n",
       "      <td>6460</td>\n",
       "    </tr>\n",
       "    <tr>\n",
       "      <th>2008</th>\n",
       "      <td>248</td>\n",
       "      <td>5679</td>\n",
       "      <td>25807</td>\n",
       "      <td>518</td>\n",
       "      <td>7342</td>\n",
       "      <td>6053</td>\n",
       "    </tr>\n",
       "    <tr>\n",
       "      <th>2009</th>\n",
       "      <td>222</td>\n",
       "      <td>5379</td>\n",
       "      <td>25585</td>\n",
       "      <td>660</td>\n",
       "      <td>7604</td>\n",
       "      <td>5183</td>\n",
       "    </tr>\n",
       "    <tr>\n",
       "      <th>2010</th>\n",
       "      <td>209</td>\n",
       "      <td>4966</td>\n",
       "      <td>24446</td>\n",
       "      <td>680</td>\n",
       "      <td>7934</td>\n",
       "      <td>4346</td>\n",
       "    </tr>\n",
       "    <tr>\n",
       "      <th>2011</th>\n",
       "      <td>203</td>\n",
       "      <td>4987</td>\n",
       "      <td>25905</td>\n",
       "      <td>785</td>\n",
       "      <td>7243</td>\n",
       "      <td>4762</td>\n",
       "    </tr>\n",
       "    <tr>\n",
       "      <th>2012</th>\n",
       "      <td>237</td>\n",
       "      <td>6243</td>\n",
       "      <td>30976</td>\n",
       "      <td>932</td>\n",
       "      <td>7808</td>\n",
       "      <td>6183</td>\n",
       "    </tr>\n",
       "    <tr>\n",
       "      <th>2013</th>\n",
       "      <td>248</td>\n",
       "      <td>6195</td>\n",
       "      <td>36412</td>\n",
       "      <td>1224</td>\n",
       "      <td>6921</td>\n",
       "      <td>6241</td>\n",
       "    </tr>\n",
       "    <tr>\n",
       "      <th>2014</th>\n",
       "      <td>253</td>\n",
       "      <td>6066</td>\n",
       "      <td>38003</td>\n",
       "      <td>1084</td>\n",
       "      <td>7165</td>\n",
       "      <td>7108</td>\n",
       "    </tr>\n",
       "    <tr>\n",
       "      <th>2015</th>\n",
       "      <td>311</td>\n",
       "      <td>5931</td>\n",
       "      <td>42068</td>\n",
       "      <td>959</td>\n",
       "      <td>7675</td>\n",
       "      <td>7943</td>\n",
       "    </tr>\n",
       "  </tbody>\n",
       "</table>\n",
       "</div>"
      ],
      "text/plain": [
       "Category  ARSON  BURGLARY  LARCENY/THEFT  STOLEN PROPERTY  VANDALISM  \\\n",
       "year                                                                   \n",
       "2005        231      7071          25319              540       7013   \n",
       "2006        240      7004          27352              575       7688   \n",
       "2007        246      5454          25770              527       7566   \n",
       "2008        248      5679          25807              518       7342   \n",
       "2009        222      5379          25585              660       7604   \n",
       "2010        209      4966          24446              680       7934   \n",
       "2011        203      4987          25905              785       7243   \n",
       "2012        237      6243          30976              932       7808   \n",
       "2013        248      6195          36412             1224       6921   \n",
       "2014        253      6066          38003             1084       7165   \n",
       "2015        311      5931          42068              959       7675   \n",
       "\n",
       "Category  VEHICLE THEFT  \n",
       "year                     \n",
       "2005              18194  \n",
       "2006               7291  \n",
       "2007               6460  \n",
       "2008               6053  \n",
       "2009               5183  \n",
       "2010               4346  \n",
       "2011               4762  \n",
       "2012               6183  \n",
       "2013               6241  \n",
       "2014               7108  \n",
       "2015               7943  "
      ]
     },
     "execution_count": 2,
     "metadata": {},
     "output_type": "execute_result"
    }
   ],
   "source": [
    "df"
   ]
  },
  {
   "cell_type": "markdown",
   "metadata": {},
   "source": [
    "In order to plot the contributions to growth we need a data frame formatted as the above. Note that the year is the index of this dataframe.\n",
    "\n",
    "If we have a data frame where the temporal variable appears as a column (and not in the index) it can easily be placed in the index by doing the following:"
   ]
  },
  {
   "cell_type": "code",
   "execution_count": null,
   "metadata": {
    "collapsed": true
   },
   "outputs": [],
   "source": [
    "df = df.set_index('year')"
   ]
  },
  {
   "cell_type": "markdown",
   "metadata": {},
   "source": [
    "## Plotting total interannual growth and the contributions to growth of each category"
   ]
  },
  {
   "cell_type": "code",
   "execution_count": 3,
   "metadata": {},
   "outputs": [
    {
     "data": {
      "text/html": [
       "\n",
       "<div class=\"bk-root\">\n",
       "    <div class=\"bk-plotdiv\" id=\"2c44e5bf-5244-4004-aa39-504cad6ea4e8\"></div>\n",
       "</div>"
      ]
     },
     "metadata": {},
     "output_type": "display_data"
    },
    {
     "data": {
      "application/javascript": [
       "(function(root) {\n",
       "  function embed_document(root) {\n",
       "    \n",
       "  var docs_json = {\"6f8545f1-67e2-4025-a36c-d77861781475\":{\"roots\":{\"references\":[{\"attributes\":{},\"id\":\"d8f567d2-fa2c-426a-81d8-20a2d0dbd1f2\",\"type\":\"BasicTicker\"},{\"attributes\":{},\"id\":\"ffd9abe1-9d5b-42dd-a39b-de8a249babee\",\"type\":\"SaveTool\"},{\"attributes\":{},\"id\":\"cf4c15a8-63ac-4c7b-9899-388c40457b32\",\"type\":\"BasicTickFormatter\"},{\"attributes\":{\"bottom_units\":\"screen\",\"fill_alpha\":{\"value\":0.5},\"fill_color\":{\"value\":\"lightgrey\"},\"left_units\":\"screen\",\"level\":\"overlay\",\"line_alpha\":{\"value\":1.0},\"line_color\":{\"value\":\"black\"},\"line_dash\":[4,4],\"line_width\":{\"value\":2},\"plot\":null,\"render_mode\":\"css\",\"right_units\":\"screen\",\"top_units\":\"screen\"},\"id\":\"3960f2e0-307b-438d-83d9-967ac00a1db0\",\"type\":\"BoxAnnotation\"},{\"attributes\":{\"below\":[{\"id\":\"bbbeb617-e809-4f44-9677-15fefb67b08d\",\"type\":\"LinearAxis\"}],\"left\":[{\"id\":\"6359e03d-cec5-4842-b543-29ba87d9bdfc\",\"type\":\"LinearAxis\"}],\"renderers\":[{\"id\":\"bbbeb617-e809-4f44-9677-15fefb67b08d\",\"type\":\"LinearAxis\"},{\"id\":\"82411950-4e95-4ee9-b2dd-f252d76fa883\",\"type\":\"Grid\"},{\"id\":\"6359e03d-cec5-4842-b543-29ba87d9bdfc\",\"type\":\"LinearAxis\"},{\"id\":\"a9f7a2b8-452e-4f3e-ad5a-acd951a7d992\",\"type\":\"Grid\"},{\"id\":\"3960f2e0-307b-438d-83d9-967ac00a1db0\",\"type\":\"BoxAnnotation\"},{\"id\":\"40ede9a3-1c1e-4d10-bdc6-ab455e2abb8a\",\"type\":\"GlyphRenderer\"}],\"title\":{\"id\":\"620cdbc7-f1fa-4b5e-8ae5-28bcad715a92\",\"type\":\"Title\"},\"toolbar\":{\"id\":\"4fdaa1be-7f47-4ad1-870a-5b6434c74dd9\",\"type\":\"Toolbar\"},\"x_range\":{\"id\":\"812e2b99-bbdc-43d9-8908-29419fb4a897\",\"type\":\"DataRange1d\"},\"x_scale\":{\"id\":\"53353c77-d1b6-4eb3-96fa-59fa731ebad4\",\"type\":\"LinearScale\"},\"y_range\":{\"id\":\"a54094c7-f86d-40dc-98a6-1d3e6814343c\",\"type\":\"DataRange1d\"},\"y_scale\":{\"id\":\"5d408e66-b736-44c5-9e39-ff61d2a34093\",\"type\":\"LinearScale\"}},\"id\":\"9d43a0b7-0da3-45a3-9abb-18437eb5f526\",\"subtype\":\"Figure\",\"type\":\"Plot\"},{\"attributes\":{\"source\":{\"id\":\"9f6763a4-de29-4293-93d4-b46ddee9a250\",\"type\":\"ColumnDataSource\"}},\"id\":\"dc41cebe-1135-4d64-a220-698b27ce5d9b\",\"type\":\"CDSView\"},{\"attributes\":{\"ticks\":[2006,2007,2008,2009,2010,2011,2012,2013,2014,2015]},\"id\":\"b00d9056-a3b6-416a-861b-8d64ed090c9a\",\"type\":\"FixedTicker\"},{\"attributes\":{\"callback\":null},\"id\":\"812e2b99-bbdc-43d9-8908-29419fb4a897\",\"type\":\"DataRange1d\"},{\"attributes\":{},\"id\":\"ac654c3e-8d2b-4b72-8194-c9283ecfd0a7\",\"type\":\"PanTool\"},{\"attributes\":{\"callback\":null},\"id\":\"a54094c7-f86d-40dc-98a6-1d3e6814343c\",\"type\":\"DataRange1d\"},{\"attributes\":{\"overlay\":{\"id\":\"3960f2e0-307b-438d-83d9-967ac00a1db0\",\"type\":\"BoxAnnotation\"}},\"id\":\"b94ef6b1-a0d8-4ad5-882f-b86cd2508f02\",\"type\":\"BoxZoomTool\"},{\"attributes\":{\"active_drag\":\"auto\",\"active_inspect\":\"auto\",\"active_scroll\":\"auto\",\"active_tap\":\"auto\",\"tools\":[{\"id\":\"ac654c3e-8d2b-4b72-8194-c9283ecfd0a7\",\"type\":\"PanTool\"},{\"id\":\"b94ef6b1-a0d8-4ad5-882f-b86cd2508f02\",\"type\":\"BoxZoomTool\"},{\"id\":\"887e1407-3515-42a8-960d-5380890b99e5\",\"type\":\"ResetTool\"},{\"id\":\"ffd9abe1-9d5b-42dd-a39b-de8a249babee\",\"type\":\"SaveTool\"}]},\"id\":\"4fdaa1be-7f47-4ad1-870a-5b6434c74dd9\",\"type\":\"Toolbar\"},{\"attributes\":{\"plot\":null,\"text\":\"Year to year growth (total)\"},\"id\":\"620cdbc7-f1fa-4b5e-8ae5-28bcad715a92\",\"type\":\"Title\"},{\"attributes\":{},\"id\":\"5d408e66-b736-44c5-9e39-ff61d2a34093\",\"type\":\"LinearScale\"},{\"attributes\":{},\"id\":\"887e1407-3515-42a8-960d-5380890b99e5\",\"type\":\"ResetTool\"},{\"attributes\":{\"data_source\":{\"id\":\"9f6763a4-de29-4293-93d4-b46ddee9a250\",\"type\":\"ColumnDataSource\"},\"glyph\":{\"id\":\"bd5f2bca-738e-410b-8fde-171ab888d592\",\"type\":\"VBar\"},\"hover_glyph\":null,\"muted_glyph\":null,\"nonselection_glyph\":{\"id\":\"fd784896-b4d3-41a7-8437-d0c4593494f9\",\"type\":\"VBar\"},\"selection_glyph\":null,\"view\":{\"id\":\"dc41cebe-1135-4d64-a220-698b27ce5d9b\",\"type\":\"CDSView\"}},\"id\":\"40ede9a3-1c1e-4d10-bdc6-ab455e2abb8a\",\"type\":\"GlyphRenderer\"},{\"attributes\":{\"dimension\":1,\"plot\":{\"id\":\"9d43a0b7-0da3-45a3-9abb-18437eb5f526\",\"subtype\":\"Figure\",\"type\":\"Plot\"},\"ticker\":{\"id\":\"561fd34f-f858-4303-8403-ffb8c7fa25dd\",\"type\":\"BasicTicker\"}},\"id\":\"a9f7a2b8-452e-4f3e-ad5a-acd951a7d992\",\"type\":\"Grid\"},{\"attributes\":{\"plot\":{\"id\":\"9d43a0b7-0da3-45a3-9abb-18437eb5f526\",\"subtype\":\"Figure\",\"type\":\"Plot\"},\"ticker\":{\"id\":\"d8f567d2-fa2c-426a-81d8-20a2d0dbd1f2\",\"type\":\"BasicTicker\"}},\"id\":\"82411950-4e95-4ee9-b2dd-f252d76fa883\",\"type\":\"Grid\"},{\"attributes\":{\"fill_alpha\":{\"value\":0.1},\"fill_color\":{\"value\":\"#1f77b4\"},\"line_alpha\":{\"value\":0.1},\"line_color\":{\"value\":\"#1f77b4\"},\"top\":{\"field\":\"top\"},\"width\":{\"value\":0.5},\"x\":{\"field\":\"x\"}},\"id\":\"fd784896-b4d3-41a7-8437-d0c4593494f9\",\"type\":\"VBar\"},{\"attributes\":{\"axis_label\":\"Year\",\"formatter\":{\"id\":\"cf4c15a8-63ac-4c7b-9899-388c40457b32\",\"type\":\"BasicTickFormatter\"},\"plot\":{\"id\":\"9d43a0b7-0da3-45a3-9abb-18437eb5f526\",\"subtype\":\"Figure\",\"type\":\"Plot\"},\"ticker\":{\"id\":\"b00d9056-a3b6-416a-861b-8d64ed090c9a\",\"type\":\"FixedTicker\"}},\"id\":\"bbbeb617-e809-4f44-9677-15fefb67b08d\",\"type\":\"LinearAxis\"},{\"attributes\":{\"callback\":null,\"column_names\":[\"x\",\"top\"],\"data\":{\"top\":{\"__ndarray__\":\"WkxnMZ0Fwr9kjNN1KRG1v/DFCcVXu4C/Yp/zsEC/lr/j7UVgB4qnvx8kaP7kW58/c/J+NkrGyD93WxI8R8O3P63jxEiZzqU/y6MoQh9Xtj8=\",\"dtype\":\"float64\",\"shape\":[10]},\"x\":[2006,2007,2008,2009,2010,2011,2012,2013,2014,2015]},\"selected\":null,\"selection_policy\":null},\"id\":\"9f6763a4-de29-4293-93d4-b46ddee9a250\",\"type\":\"ColumnDataSource\"},{\"attributes\":{\"formatter\":{\"id\":\"20602e70-e925-4836-8562-c09469902034\",\"type\":\"NumeralTickFormatter\"},\"plot\":{\"id\":\"9d43a0b7-0da3-45a3-9abb-18437eb5f526\",\"subtype\":\"Figure\",\"type\":\"Plot\"},\"ticker\":{\"id\":\"561fd34f-f858-4303-8403-ffb8c7fa25dd\",\"type\":\"BasicTicker\"}},\"id\":\"6359e03d-cec5-4842-b543-29ba87d9bdfc\",\"type\":\"LinearAxis\"},{\"attributes\":{},\"id\":\"561fd34f-f858-4303-8403-ffb8c7fa25dd\",\"type\":\"BasicTicker\"},{\"attributes\":{\"fill_color\":{\"value\":\"#1f77b4\"},\"line_color\":{\"value\":\"#1f77b4\"},\"top\":{\"field\":\"top\"},\"width\":{\"value\":0.5},\"x\":{\"field\":\"x\"}},\"id\":\"bd5f2bca-738e-410b-8fde-171ab888d592\",\"type\":\"VBar\"},{\"attributes\":{\"format\":\"0%\"},\"id\":\"20602e70-e925-4836-8562-c09469902034\",\"type\":\"NumeralTickFormatter\"},{\"attributes\":{},\"id\":\"53353c77-d1b6-4eb3-96fa-59fa731ebad4\",\"type\":\"LinearScale\"}],\"root_ids\":[\"9d43a0b7-0da3-45a3-9abb-18437eb5f526\"]},\"title\":\"Bokeh Application\",\"version\":\"0.12.15\"}};\n",
       "  var render_items = [{\"docid\":\"6f8545f1-67e2-4025-a36c-d77861781475\",\"elementid\":\"2c44e5bf-5244-4004-aa39-504cad6ea4e8\",\"modelid\":\"9d43a0b7-0da3-45a3-9abb-18437eb5f526\"}];\n",
       "  root.Bokeh.embed.embed_items_notebook(docs_json, render_items);\n",
       "\n",
       "  }\n",
       "  if (root.Bokeh !== undefined) {\n",
       "    embed_document(root);\n",
       "  } else {\n",
       "    var attempts = 0;\n",
       "    var timer = setInterval(function(root) {\n",
       "      if (root.Bokeh !== undefined) {\n",
       "        embed_document(root);\n",
       "        clearInterval(timer);\n",
       "      }\n",
       "      attempts++;\n",
       "      if (attempts > 100) {\n",
       "        console.log(\"Bokeh: ERROR: Unable to run BokehJS code because BokehJS library is missing\")\n",
       "        clearInterval(timer);\n",
       "      }\n",
       "    }, 10, root)\n",
       "  }\n",
       "})(window);"
      ],
      "application/vnd.bokehjs_exec.v0+json": ""
     },
     "metadata": {
      "application/vnd.bokehjs_exec.v0+json": {
       "id": "9d43a0b7-0da3-45a3-9abb-18437eb5f526"
      }
     },
     "output_type": "display_data"
    },
    {
     "data": {
      "text/html": [
       "\n",
       "<div class=\"bk-root\">\n",
       "    <div class=\"bk-plotdiv\" id=\"d8aa739c-a3cb-49d0-91d5-07491948482d\"></div>\n",
       "</div>"
      ]
     },
     "metadata": {},
     "output_type": "display_data"
    },
    {
     "data": {
      "application/javascript": [
       "(function(root) {\n",
       "  function embed_document(root) {\n",
       "    \n",
       "  var docs_json = {\"45d095d7-6d6d-4c4d-9853-5ac73ee7ec50\":{\"roots\":{\"references\":[{\"attributes\":{\"plot\":{\"id\":\"15480c25-578f-44ab-b563-a3bc57b05234\",\"subtype\":\"Figure\",\"type\":\"Plot\"},\"ticker\":{\"id\":\"249c0c89-31e0-4c7d-89c5-9904822bbd77\",\"type\":\"BasicTicker\"}},\"id\":\"9c9eb33e-f823-4dce-b954-40a863b777c8\",\"type\":\"Grid\"},{\"attributes\":{},\"id\":\"6519bc37-8893-4aff-8891-be514eb50bd9\",\"type\":\"LinearScale\"},{\"attributes\":{\"below\":[{\"id\":\"0340768a-eda6-427e-b7f2-d4bca2e3fd41\",\"type\":\"LinearAxis\"}],\"left\":[{\"id\":\"a14c73f7-ced3-4bf4-8168-4fe2058674ec\",\"type\":\"LinearAxis\"}],\"renderers\":[{\"id\":\"0340768a-eda6-427e-b7f2-d4bca2e3fd41\",\"type\":\"LinearAxis\"},{\"id\":\"9c9eb33e-f823-4dce-b954-40a863b777c8\",\"type\":\"Grid\"},{\"id\":\"a14c73f7-ced3-4bf4-8168-4fe2058674ec\",\"type\":\"LinearAxis\"},{\"id\":\"7ed786dd-daee-41e1-9475-25e477645e2b\",\"type\":\"Grid\"},{\"id\":\"53668281-29fe-4404-a33d-008c10f28baf\",\"type\":\"BoxAnnotation\"},{\"id\":\"11e8e40d-fc09-4e87-98c1-3052fd2329e5\",\"type\":\"Legend\"},{\"id\":\"00e35a93-9085-497d-a14b-d7292b56a1d2\",\"type\":\"GlyphRenderer\"},{\"id\":\"940d26bc-b4e9-4044-8bc9-8f496fdcb34d\",\"type\":\"GlyphRenderer\"},{\"id\":\"25cf97ad-315c-44cb-bddb-a1219bb53987\",\"type\":\"GlyphRenderer\"},{\"id\":\"f8e7fe97-49e1-4f97-bf67-785a9e07d4da\",\"type\":\"GlyphRenderer\"},{\"id\":\"4bc44ccc-c134-4003-9256-94d44f059ac9\",\"type\":\"GlyphRenderer\"},{\"id\":\"1948684d-fa1f-4d95-b093-2fc75d4c451b\",\"type\":\"GlyphRenderer\"}],\"title\":{\"id\":\"b2687641-97ac-42b6-a320-4873a99e2718\",\"type\":\"Title\"},\"toolbar\":{\"id\":\"6ef69fce-5a93-46a3-a239-d4d5d0b08f96\",\"type\":\"Toolbar\"},\"x_range\":{\"id\":\"15921154-5658-4003-9364-4b6a13b7523b\",\"type\":\"DataRange1d\"},\"x_scale\":{\"id\":\"6519bc37-8893-4aff-8891-be514eb50bd9\",\"type\":\"LinearScale\"},\"y_range\":{\"id\":\"20f8a66d-73a0-425b-ac04-265c7cca0bc2\",\"type\":\"DataRange1d\"},\"y_scale\":{\"id\":\"a49cee0e-a1ee-49b5-b4a9-55cfb97e9299\",\"type\":\"LinearScale\"}},\"id\":\"15480c25-578f-44ab-b563-a3bc57b05234\",\"subtype\":\"Figure\",\"type\":\"Plot\"},{\"attributes\":{\"formatter\":{\"id\":\"c38910de-3a77-47f5-a847-6a3681102c49\",\"type\":\"NumeralTickFormatter\"},\"plot\":{\"id\":\"15480c25-578f-44ab-b563-a3bc57b05234\",\"subtype\":\"Figure\",\"type\":\"Plot\"},\"ticker\":{\"id\":\"bf1c27a0-bbd6-4c65-b954-1552b6678e84\",\"type\":\"BasicTicker\"}},\"id\":\"a14c73f7-ced3-4bf4-8168-4fe2058674ec\",\"type\":\"LinearAxis\"},{\"attributes\":{\"source\":{\"id\":\"a01dbc21-6ce0-458f-9b1a-95078bf103f6\",\"type\":\"ColumnDataSource\"}},\"id\":\"94daf9e2-1ff3-4465-b924-29c1feba79e5\",\"type\":\"CDSView\"},{\"attributes\":{\"callback\":null},\"id\":\"15921154-5658-4003-9364-4b6a13b7523b\",\"type\":\"DataRange1d\"},{\"attributes\":{\"active_drag\":\"auto\",\"active_inspect\":\"auto\",\"active_scroll\":\"auto\",\"active_tap\":\"auto\",\"tools\":[{\"id\":\"58332fc0-0b16-4201-a8de-a9a0e36f9486\",\"type\":\"PanTool\"},{\"id\":\"e4f521e3-60b0-4b36-a7da-531c45c45ac5\",\"type\":\"BoxZoomTool\"},{\"id\":\"29e479e6-cd45-4c89-84ba-4fcecdeae6ac\",\"type\":\"ResetTool\"},{\"id\":\"99f3d66c-1ae5-42bd-8769-8a745833d2b0\",\"type\":\"SaveTool\"}]},\"id\":\"6ef69fce-5a93-46a3-a239-d4d5d0b08f96\",\"type\":\"Toolbar\"},{\"attributes\":{\"source\":{\"id\":\"3f66c94e-d92a-4703-854a-1986930ae21d\",\"type\":\"ColumnDataSource\"}},\"id\":\"400134ba-483b-419f-9285-ea9f7dc20b85\",\"type\":\"CDSView\"},{\"attributes\":{},\"id\":\"29e479e6-cd45-4c89-84ba-4fcecdeae6ac\",\"type\":\"ResetTool\"},{\"attributes\":{},\"id\":\"249c0c89-31e0-4c7d-89c5-9904822bbd77\",\"type\":\"BasicTicker\"},{\"attributes\":{\"bottom\":{\"field\":\"bottom\"},\"fill_alpha\":{\"value\":0.1},\"fill_color\":{\"value\":\"#1f77b4\"},\"line_alpha\":{\"value\":0.1},\"line_color\":{\"value\":\"#1f77b4\"},\"top\":{\"field\":\"top\"},\"width\":{\"value\":0.5},\"x\":{\"field\":\"x\"}},\"id\":\"b9ab575a-2f6b-4a8f-bd3d-e8bc51da8f7a\",\"type\":\"VBar\"},{\"attributes\":{\"axis_label\":\"Year\",\"formatter\":{\"id\":\"814ea4ca-cf0b-4dd9-8734-d879b7195c5f\",\"type\":\"BasicTickFormatter\"},\"plot\":{\"id\":\"15480c25-578f-44ab-b563-a3bc57b05234\",\"subtype\":\"Figure\",\"type\":\"Plot\"},\"ticker\":{\"id\":\"19c650c4-8a57-4c65-b4a2-0fd873e18cde\",\"type\":\"FixedTicker\"}},\"id\":\"0340768a-eda6-427e-b7f2-d4bca2e3fd41\",\"type\":\"LinearAxis\"},{\"attributes\":{\"items\":[{\"id\":\"de9a05e2-3afe-420b-b024-f4a66c04f6fc\",\"type\":\"LegendItem\"},{\"id\":\"cacdfdf2-b8cb-4a23-a9b3-f49bb4b0b107\",\"type\":\"LegendItem\"},{\"id\":\"d27dc8cb-9c21-40c4-ba61-547f4a1d28d9\",\"type\":\"LegendItem\"},{\"id\":\"d83ea149-9a47-449b-932e-a6264a30e400\",\"type\":\"LegendItem\"},{\"id\":\"2882c1b5-dc0c-43ff-b898-88a0378ea9e2\",\"type\":\"LegendItem\"},{\"id\":\"af87eaf7-b38c-49d5-9038-176935763671\",\"type\":\"LegendItem\"}],\"plot\":{\"id\":\"15480c25-578f-44ab-b563-a3bc57b05234\",\"subtype\":\"Figure\",\"type\":\"Plot\"}},\"id\":\"11e8e40d-fc09-4e87-98c1-3052fd2329e5\",\"type\":\"Legend\"},{\"attributes\":{},\"id\":\"814ea4ca-cf0b-4dd9-8734-d879b7195c5f\",\"type\":\"BasicTickFormatter\"},{\"attributes\":{\"data_source\":{\"id\":\"a01dbc21-6ce0-458f-9b1a-95078bf103f6\",\"type\":\"ColumnDataSource\"},\"glyph\":{\"id\":\"26de67ea-a4ef-4a0f-b046-a9ad253d9c02\",\"type\":\"VBar\"},\"hover_glyph\":null,\"muted_glyph\":null,\"nonselection_glyph\":{\"id\":\"e38c11bf-f3e7-455b-8e34-074187dae21d\",\"type\":\"VBar\"},\"selection_glyph\":null,\"view\":{\"id\":\"94daf9e2-1ff3-4465-b924-29c1feba79e5\",\"type\":\"CDSView\"}},\"id\":\"1948684d-fa1f-4d95-b093-2fc75d4c451b\",\"type\":\"GlyphRenderer\"},{\"attributes\":{\"bottom\":{\"field\":\"bottom\"},\"fill_color\":{\"value\":\"#F0E442\"},\"line_color\":{\"value\":\"#F0E442\"},\"top\":{\"field\":\"top\"},\"width\":{\"value\":0.5},\"x\":{\"field\":\"x\"}},\"id\":\"3dadeac3-4173-4281-95e5-3d869759def0\",\"type\":\"VBar\"},{\"attributes\":{},\"id\":\"58332fc0-0b16-4201-a8de-a9a0e36f9486\",\"type\":\"PanTool\"},{\"attributes\":{\"bottom\":{\"field\":\"bottom\"},\"fill_alpha\":{\"value\":0.1},\"fill_color\":{\"value\":\"#1f77b4\"},\"line_alpha\":{\"value\":0.1},\"line_color\":{\"value\":\"#1f77b4\"},\"top\":{\"field\":\"top\"},\"width\":{\"value\":0.5},\"x\":{\"field\":\"x\"}},\"id\":\"cce5eed3-a7b1-4ae7-bd1d-02b264c2ecaa\",\"type\":\"VBar\"},{\"attributes\":{\"overlay\":{\"id\":\"53668281-29fe-4404-a33d-008c10f28baf\",\"type\":\"BoxAnnotation\"}},\"id\":\"e4f521e3-60b0-4b36-a7da-531c45c45ac5\",\"type\":\"BoxZoomTool\"},{\"attributes\":{\"callback\":null,\"column_names\":[\"x\",\"top\",\"bottom\"],\"data\":{\"bottom\":{\"__ndarray__\":\"6iyms5jOUr9yg7dTKKafv5RvMxejyAY/65SJFK5Afb9bKA0aEoyDvwAAAAAAAAAAHEyNqhdjST8oZ4pGTQdOv+uRFRE0dmK/kTB65fiHYr8=\",\"dtype\":\"float64\",\"shape\":[10]},\"top\":{\"__ndarray__\":\"AAAAAAAAAAAAAAAAAAAAAPCbkp3oM3Q/7vgCsg2qQr8YYeCwmhYzv2l9dBATKUA/tloKtbkZnj8AAAAAAAAAAAAAAAAAAAAAAAAAAAAAAAA=\",\"dtype\":\"float64\",\"shape\":[10]},\"x\":[2006,2007,2008,2009,2010,2011,2012,2013,2014,2015]},\"selected\":null,\"selection_policy\":null},\"id\":\"3f66c94e-d92a-4703-854a-1986930ae21d\",\"type\":\"ColumnDataSource\"},{\"attributes\":{\"bottom\":{\"field\":\"bottom\"},\"fill_alpha\":{\"value\":0.1},\"fill_color\":{\"value\":\"#1f77b4\"},\"line_alpha\":{\"value\":0.1},\"line_color\":{\"value\":\"#1f77b4\"},\"top\":{\"field\":\"top\"},\"width\":{\"value\":0.5},\"x\":{\"field\":\"x\"}},\"id\":\"e38c11bf-f3e7-455b-8e34-074187dae21d\",\"type\":\"VBar\"},{\"attributes\":{\"source\":{\"id\":\"2e16bae8-e7d1-46d7-a4d1-13b0737a3b48\",\"type\":\"ColumnDataSource\"}},\"id\":\"a1d30907-d658-4ab0-8d9c-ad8492a88f56\",\"type\":\"CDSView\"},{\"attributes\":{\"bottom\":{\"field\":\"bottom\"},\"fill_color\":{\"value\":\"#009E73\"},\"line_color\":{\"value\":\"#009E73\"},\"top\":{\"field\":\"top\"},\"width\":{\"value\":0.5},\"x\":{\"field\":\"x\"}},\"id\":\"22fb1077-6001-4591-828d-181289a06dd5\",\"type\":\"VBar\"},{\"attributes\":{\"bottom\":{\"field\":\"bottom\"},\"fill_alpha\":{\"value\":0.1},\"fill_color\":{\"value\":\"#1f77b4\"},\"line_alpha\":{\"value\":0.1},\"line_color\":{\"value\":\"#1f77b4\"},\"top\":{\"field\":\"top\"},\"width\":{\"value\":0.5},\"x\":{\"field\":\"x\"}},\"id\":\"ae73ca29-2912-4c4c-851a-8e669ccdedc5\",\"type\":\"VBar\"},{\"attributes\":{\"data_source\":{\"id\":\"2e16bae8-e7d1-46d7-a4d1-13b0737a3b48\",\"type\":\"ColumnDataSource\"},\"glyph\":{\"id\":\"d05a99cd-7cf8-4cdd-82d9-b261f57a7dff\",\"type\":\"VBar\"},\"hover_glyph\":null,\"muted_glyph\":null,\"nonselection_glyph\":{\"id\":\"b9ab575a-2f6b-4a8f-bd3d-e8bc51da8f7a\",\"type\":\"VBar\"},\"selection_glyph\":null,\"view\":{\"id\":\"a1d30907-d658-4ab0-8d9c-ad8492a88f56\",\"type\":\"CDSView\"}},\"id\":\"00e35a93-9085-497d-a14b-d7292b56a1d2\",\"type\":\"GlyphRenderer\"},{\"attributes\":{\"dimension\":1,\"plot\":{\"id\":\"15480c25-578f-44ab-b563-a3bc57b05234\",\"subtype\":\"Figure\",\"type\":\"Plot\"},\"ticker\":{\"id\":\"bf1c27a0-bbd6-4c65-b954-1552b6678e84\",\"type\":\"BasicTicker\"}},\"id\":\"7ed786dd-daee-41e1-9475-25e477645e2b\",\"type\":\"Grid\"},{\"attributes\":{\"format\":\"0%\"},\"id\":\"c38910de-3a77-47f5-a847-6a3681102c49\",\"type\":\"NumeralTickFormatter\"},{\"attributes\":{\"callback\":null,\"column_names\":[\"x\",\"top\",\"bottom\"],\"data\":{\"bottom\":{\"__ndarray__\":\"AAAAAAAAAAAAAAAAAAAAAAAAAAAAAAAA7vgCsg2qQr8YYeCwmhYzv+azqckVeCK/AAAAAAAAAAAAAAAAAAAAAAAAAAAAAAAAAAAAAAAAAAA=\",\"dtype\":\"float64\",\"shape\":[10]},\"top\":{\"__ndarray__\":\"XkN5DeU1JD/Wi0UM+lwfP5RvMxejyAY/AAAAAAAAAAAAAAAAAAAAAAAAAAAAAAAAHEyNqhdjST86iamAsYYrP43sBCv15RY/rhiZqprYTz8=\",\"dtype\":\"float64\",\"shape\":[10]},\"x\":[2006,2007,2008,2009,2010,2011,2012,2013,2014,2015]},\"selected\":null,\"selection_policy\":null},\"id\":\"2e16bae8-e7d1-46d7-a4d1-13b0737a3b48\",\"type\":\"ColumnDataSource\"},{\"attributes\":{\"label\":{\"value\":\"BURGLARY\"},\"renderers\":[{\"id\":\"940d26bc-b4e9-4044-8bc9-8f496fdcb34d\",\"type\":\"GlyphRenderer\"}]},\"id\":\"cacdfdf2-b8cb-4a23-a9b3-f49bb4b0b107\",\"type\":\"LegendItem\"},{\"attributes\":{\"plot\":null,\"text\":\"Contributions to total growth\"},\"id\":\"b2687641-97ac-42b6-a320-4873a99e2718\",\"type\":\"Title\"},{\"attributes\":{\"data_source\":{\"id\":\"3f66c94e-d92a-4703-854a-1986930ae21d\",\"type\":\"ColumnDataSource\"},\"glyph\":{\"id\":\"929dc9ab-28b8-4ba9-a3e2-dafe9a7d0134\",\"type\":\"VBar\"},\"hover_glyph\":null,\"muted_glyph\":null,\"nonselection_glyph\":{\"id\":\"8e7da68c-344e-4828-8b77-b3bafd40d2ae\",\"type\":\"VBar\"},\"selection_glyph\":null,\"view\":{\"id\":\"400134ba-483b-419f-9285-ea9f7dc20b85\",\"type\":\"CDSView\"}},\"id\":\"940d26bc-b4e9-4044-8bc9-8f496fdcb34d\",\"type\":\"GlyphRenderer\"},{\"attributes\":{\"callback\":null},\"id\":\"20f8a66d-73a0-425b-ac04-265c7cca0bc2\",\"type\":\"DataRange1d\"},{\"attributes\":{\"ticks\":[2006,2007,2008,2009,2010,2011,2012,2013,2014,2015]},\"id\":\"19c650c4-8a57-4c65-b4a2-0fd873e18cde\",\"type\":\"FixedTicker\"},{\"attributes\":{\"bottom\":{\"field\":\"bottom\"},\"fill_alpha\":{\"value\":0.1},\"fill_color\":{\"value\":\"#1f77b4\"},\"line_alpha\":{\"value\":0.1},\"line_color\":{\"value\":\"#1f77b4\"},\"top\":{\"field\":\"top\"},\"width\":{\"value\":0.5},\"x\":{\"field\":\"x\"}},\"id\":\"8e7da68c-344e-4828-8b77-b3bafd40d2ae\",\"type\":\"VBar\"},{\"attributes\":{\"data_source\":{\"id\":\"94cf1cf1-d9bc-4ac0-a494-5cb6448324ef\",\"type\":\"ColumnDataSource\"},\"glyph\":{\"id\":\"df8f546d-4afa-4e86-8c3b-477edc1d860a\",\"type\":\"VBar\"},\"hover_glyph\":null,\"muted_glyph\":null,\"nonselection_glyph\":{\"id\":\"cce5eed3-a7b1-4ae7-bd1d-02b264c2ecaa\",\"type\":\"VBar\"},\"selection_glyph\":null,\"view\":{\"id\":\"3681e828-68f2-4999-90ae-c81e0589b82b\",\"type\":\"CDSView\"}},\"id\":\"4bc44ccc-c134-4003-9256-94d44f059ac9\",\"type\":\"GlyphRenderer\"},{\"attributes\":{\"bottom\":{\"field\":\"bottom\"},\"fill_color\":{\"value\":\"#E69F00\"},\"line_color\":{\"value\":\"#E69F00\"},\"top\":{\"field\":\"top\"},\"width\":{\"value\":0.5},\"x\":{\"field\":\"x\"}},\"id\":\"929dc9ab-28b8-4ba9-a3e2-dafe9a7d0134\",\"type\":\"VBar\"},{\"attributes\":{\"source\":{\"id\":\"36136694-fd0b-4fc6-adb3-50ece9440323\",\"type\":\"ColumnDataSource\"}},\"id\":\"41a65a9a-10c6-42e9-b4ec-989cd114683c\",\"type\":\"CDSView\"},{\"attributes\":{},\"id\":\"99f3d66c-1ae5-42bd-8769-8a745833d2b0\",\"type\":\"SaveTool\"},{\"attributes\":{\"callback\":null,\"column_names\":[\"x\",\"top\",\"bottom\"],\"data\":{\"bottom\":{\"__ndarray__\":\"XkN5DeU1JD+S54Luyvmvv/Cbkp3oM3Q/sNYIqCqWiL/v8/fy3/Ohv2l9dBATKUA/tloKtbkZnj86iamAsYYrP43sBCv15RY/rhiZqprYTz8=\",\"dtype\":\"float64\",\"shape\":[10]},\"top\":{\"__ndarray__\":\"mM5iOovpoT9yg7dTKKafvxAL7S/ofnc/65SJFK5Afb9bKA0aEoyDvwKET/60y6E/iLucvJ+Nwj8Kyak3OZ+6P43w1uQgjZw/q4G1aaOvsT8=\",\"dtype\":\"float64\",\"shape\":[10]},\"x\":[2006,2007,2008,2009,2010,2011,2012,2013,2014,2015]},\"selected\":null,\"selection_policy\":null},\"id\":\"36136694-fd0b-4fc6-adb3-50ece9440323\",\"type\":\"ColumnDataSource\"},{\"attributes\":{\"label\":{\"value\":\"LARCENY/THEFT\"},\"renderers\":[{\"id\":\"25cf97ad-315c-44cb-bddb-a1219bb53987\",\"type\":\"GlyphRenderer\"}]},\"id\":\"d27dc8cb-9c21-40c4-ba61-547f4a1d28d9\",\"type\":\"LegendItem\"},{\"attributes\":{\"data_source\":{\"id\":\"36136694-fd0b-4fc6-adb3-50ece9440323\",\"type\":\"ColumnDataSource\"},\"glyph\":{\"id\":\"3dadeac3-4173-4281-95e5-3d869759def0\",\"type\":\"VBar\"},\"hover_glyph\":null,\"muted_glyph\":null,\"nonselection_glyph\":{\"id\":\"ae73ca29-2912-4c4c-851a-8e669ccdedc5\",\"type\":\"VBar\"},\"selection_glyph\":null,\"view\":{\"id\":\"41a65a9a-10c6-42e9-b4ec-989cd114683c\",\"type\":\"CDSView\"}},\"id\":\"25cf97ad-315c-44cb-bddb-a1219bb53987\",\"type\":\"GlyphRenderer\"},{\"attributes\":{},\"id\":\"bf1c27a0-bbd6-4c65-b954-1552b6678e84\",\"type\":\"BasicTicker\"},{\"attributes\":{\"data_source\":{\"id\":\"4d0bdffc-5976-478d-86d6-3e7cb50f3713\",\"type\":\"ColumnDataSource\"},\"glyph\":{\"id\":\"22fb1077-6001-4591-828d-181289a06dd5\",\"type\":\"VBar\"},\"hover_glyph\":null,\"muted_glyph\":null,\"nonselection_glyph\":{\"id\":\"0c97404d-c626-4079-93a7-7626eea3559a\",\"type\":\"VBar\"},\"selection_glyph\":null,\"view\":{\"id\":\"ff0155e9-63d2-4ab8-ba9b-bced609037c4\",\"type\":\"CDSView\"}},\"id\":\"f8e7fe97-49e1-4f97-bf67-785a9e07d4da\",\"type\":\"GlyphRenderer\"},{\"attributes\":{\"bottom_units\":\"screen\",\"fill_alpha\":{\"value\":0.5},\"fill_color\":{\"value\":\"lightgrey\"},\"left_units\":\"screen\",\"level\":\"overlay\",\"line_alpha\":{\"value\":1.0},\"line_color\":{\"value\":\"black\"},\"line_dash\":[4,4],\"line_width\":{\"value\":2},\"plot\":null,\"render_mode\":\"css\",\"right_units\":\"screen\",\"top_units\":\"screen\"},\"id\":\"53668281-29fe-4404-a33d-008c10f28baf\",\"type\":\"BoxAnnotation\"},{\"attributes\":{\"callback\":null,\"column_names\":[\"x\",\"top\",\"bottom\"],\"data\":{\"bottom\":{\"__ndarray__\":\"6iyms5gOyL/HnVa0ABm1v3hLAN3Leoy/80vGfl3Pn79jvY043I2rv86dmHvqDqM/0aTqYEKhxD+cB4QOkgy8PwaK6zZIdaA/2EPpy7Dfsz8=\",\"dtype\":\"float64\",\"shape\":[10]},\"top\":{\"__ndarray__\":\"6iyms5jOUr+9tW1iDduwv43QHXCcvHS/sNYIqCqWiL/v8/fy3/Ohv9yTNmJwD6g/cvJ+NkrGyD/AgO6zI1W8P7yBMPKPNqg/3BpXkqN0tz8=\",\"dtype\":\"float64\",\"shape\":[10]},\"x\":[2006,2007,2008,2009,2010,2011,2012,2013,2014,2015]},\"selected\":null,\"selection_policy\":null},\"id\":\"a01dbc21-6ce0-458f-9b1a-95078bf103f6\",\"type\":\"ColumnDataSource\"},{\"attributes\":{\"bottom\":{\"field\":\"bottom\"},\"fill_color\":{\"value\":\"#56B4E9\"},\"line_color\":{\"value\":\"#56B4E9\"},\"top\":{\"field\":\"top\"},\"width\":{\"value\":0.5},\"x\":{\"field\":\"x\"}},\"id\":\"df8f546d-4afa-4e86-8c3b-477edc1d860a\",\"type\":\"VBar\"},{\"attributes\":{\"label\":{\"value\":\"STOLEN PROPERTY\"},\"renderers\":[{\"id\":\"f8e7fe97-49e1-4f97-bf67-785a9e07d4da\",\"type\":\"GlyphRenderer\"}]},\"id\":\"d83ea149-9a47-449b-932e-a6264a30e400\",\"type\":\"LegendItem\"},{\"attributes\":{\"label\":{\"value\":\"VEHICLE THEFT\"},\"renderers\":[{\"id\":\"1948684d-fa1f-4d95-b093-2fc75d4c451b\",\"type\":\"GlyphRenderer\"}]},\"id\":\"af87eaf7-b38c-49d5-9038-176935763671\",\"type\":\"LegendItem\"},{\"attributes\":{\"source\":{\"id\":\"4d0bdffc-5976-478d-86d6-3e7cb50f3713\",\"type\":\"ColumnDataSource\"}},\"id\":\"ff0155e9-63d2-4ab8-ba9b-bced609037c4\",\"type\":\"CDSView\"},{\"attributes\":{\"source\":{\"id\":\"94cf1cf1-d9bc-4ac0-a494-5cb6448324ef\",\"type\":\"ColumnDataSource\"}},\"id\":\"3681e828-68f2-4999-90ae-c81e0589b82b\",\"type\":\"CDSView\"},{\"attributes\":{\"bottom\":{\"field\":\"bottom\"},\"fill_alpha\":{\"value\":0.1},\"fill_color\":{\"value\":\"#1f77b4\"},\"line_alpha\":{\"value\":0.1},\"line_color\":{\"value\":\"#1f77b4\"},\"top\":{\"field\":\"top\"},\"width\":{\"value\":0.5},\"x\":{\"field\":\"x\"}},\"id\":\"0c97404d-c626-4079-93a7-7626eea3559a\",\"type\":\"VBar\"},{\"attributes\":{\"bottom\":{\"field\":\"bottom\"},\"fill_color\":{\"value\":\"#0072B2\"},\"line_color\":{\"value\":\"#0072B2\"},\"top\":{\"field\":\"top\"},\"width\":{\"value\":0.5},\"x\":{\"field\":\"x\"}},\"id\":\"d05a99cd-7cf8-4cdd-82d9-b261f57a7dff\",\"type\":\"VBar\"},{\"attributes\":{\"callback\":null,\"column_names\":[\"x\",\"top\",\"bottom\"],\"data\":{\"bottom\":{\"__ndarray__\":\"mM5iOovpoT/h/llrnzuwv4bdGXq3oSm/AAAAAAAAAAAAAAAAAAAAAAKET/60y6E/iLucvJ+Nwj8Kyak3OZ+6P3PwXEu1P3O/JHHnAkXYcb8=\",\"dtype\":\"float64\",\"shape\":[10]},\"top\":{\"__ndarray__\":\"gvsI7iM4oj+S54LuyvmvvwAAAAAAAAAAWDb6d+F7aT900DFL2l09P86dmHvqDqM/fi0NwWL7wj+cB4QOkgy8P+uRFRE0dmK/kTB65fiHYr8=\",\"dtype\":\"float64\",\"shape\":[10]},\"x\":[2006,2007,2008,2009,2010,2011,2012,2013,2014,2015]},\"selected\":null,\"selection_policy\":null},\"id\":\"4d0bdffc-5976-478d-86d6-3e7cb50f3713\",\"type\":\"ColumnDataSource\"},{\"attributes\":{\"label\":{\"value\":\"VANDALISM\"},\"renderers\":[{\"id\":\"4bc44ccc-c134-4003-9256-94d44f059ac9\",\"type\":\"GlyphRenderer\"}]},\"id\":\"2882c1b5-dc0c-43ff-b898-88a0378ea9e2\",\"type\":\"LegendItem\"},{\"attributes\":{},\"id\":\"a49cee0e-a1ee-49b5-b4a9-55cfb97e9299\",\"type\":\"LinearScale\"},{\"attributes\":{\"callback\":null,\"column_names\":[\"x\",\"top\",\"bottom\"],\"data\":{\"bottom\":{\"__ndarray__\":\"gvsI7iM4oj+9tW1iDduwv43QHXCcvHS/WDb6d+F7aT900DFL2l09P5oDBcb7wpC/fi0NwWL7wj8glXDfcUeSv43w1uQgjZw/q4G1aaOvsT8=\",\"dtype\":\"float64\",\"shape\":[10]},\"top\":{\"__ndarray__\":\"P4L7CO4jqD/h/llrnzuwv4bdGXq3oSm/Ilmlmzkggj//PR9hUw+AP+azqckVeCK/0aTqYEKhxD8oZ4pGTQdOvwaK6zZIdaA/2EPpy7Dfsz8=\",\"dtype\":\"float64\",\"shape\":[10]},\"x\":[2006,2007,2008,2009,2010,2011,2012,2013,2014,2015]},\"selected\":null,\"selection_policy\":null},\"id\":\"94cf1cf1-d9bc-4ac0-a494-5cb6448324ef\",\"type\":\"ColumnDataSource\"},{\"attributes\":{\"bottom\":{\"field\":\"bottom\"},\"fill_color\":{\"value\":\"#D55E00\"},\"line_color\":{\"value\":\"#D55E00\"},\"top\":{\"field\":\"top\"},\"width\":{\"value\":0.5},\"x\":{\"field\":\"x\"}},\"id\":\"26de67ea-a4ef-4a0f-b046-a9ad253d9c02\",\"type\":\"VBar\"},{\"attributes\":{\"label\":{\"value\":\"ARSON\"},\"renderers\":[{\"id\":\"00e35a93-9085-497d-a14b-d7292b56a1d2\",\"type\":\"GlyphRenderer\"}]},\"id\":\"de9a05e2-3afe-420b-b024-f4a66c04f6fc\",\"type\":\"LegendItem\"}],\"root_ids\":[\"15480c25-578f-44ab-b563-a3bc57b05234\"]},\"title\":\"Bokeh Application\",\"version\":\"0.12.15\"}};\n",
       "  var render_items = [{\"docid\":\"45d095d7-6d6d-4c4d-9853-5ac73ee7ec50\",\"elementid\":\"d8aa739c-a3cb-49d0-91d5-07491948482d\",\"modelid\":\"15480c25-578f-44ab-b563-a3bc57b05234\"}];\n",
       "  root.Bokeh.embed.embed_items_notebook(docs_json, render_items);\n",
       "\n",
       "  }\n",
       "  if (root.Bokeh !== undefined) {\n",
       "    embed_document(root);\n",
       "  } else {\n",
       "    var attempts = 0;\n",
       "    var timer = setInterval(function(root) {\n",
       "      if (root.Bokeh !== undefined) {\n",
       "        embed_document(root);\n",
       "        clearInterval(timer);\n",
       "      }\n",
       "      attempts++;\n",
       "      if (attempts > 100) {\n",
       "        console.log(\"Bokeh: ERROR: Unable to run BokehJS code because BokehJS library is missing\")\n",
       "        clearInterval(timer);\n",
       "      }\n",
       "    }, 10, root)\n",
       "  }\n",
       "})(window);"
      ],
      "application/vnd.bokehjs_exec.v0+json": ""
     },
     "metadata": {
      "application/vnd.bokehjs_exec.v0+json": {
       "id": "15480c25-578f-44ab-b563-a3bc57b05234"
      }
     },
     "output_type": "display_data"
    }
   ],
   "source": [
    "plot_contributions(df)"
   ]
  },
  {
   "cell_type": "markdown",
   "metadata": {},
   "source": [
    "<img src=\"bokeh_plot.png\" width=\"60%\" align=\"left\">"
   ]
  },
  {
   "cell_type": "markdown",
   "metadata": {},
   "source": [
    "<img src=\"bokeh_plot(1).png\" width=\"60%\" align=\"left\">"
   ]
  },
  {
   "cell_type": "markdown",
   "metadata": {},
   "source": [
    "As we can see the legend has been placed in an obstructive position.\n",
    "\n",
    "We will call the function again. This time:\n",
    "    - We will not plot the total interannual growth, just the contributions\n",
    "    - We will place the legend in the top left corner\n",
    "    - We will use a different color palette"
   ]
  },
  {
   "cell_type": "code",
   "execution_count": 4,
   "metadata": {
    "scrolled": false
   },
   "outputs": [
    {
     "data": {
      "text/html": [
       "\n",
       "<div class=\"bk-root\">\n",
       "    <div class=\"bk-plotdiv\" id=\"d2a14abd-fbf3-414e-9828-e35a9e7f79cf\"></div>\n",
       "</div>"
      ]
     },
     "metadata": {},
     "output_type": "display_data"
    },
    {
     "data": {
      "application/javascript": [
       "(function(root) {\n",
       "  function embed_document(root) {\n",
       "    \n",
       "  var docs_json = {\"9fb1987b-5b05-46da-98aa-2b4c1143579e\":{\"roots\":{\"references\":[{\"attributes\":{\"callback\":null,\"column_names\":[\"x\",\"top\",\"bottom\"],\"data\":{\"bottom\":{\"__ndarray__\":\"AAAAAAAAAAAAAAAAAAAAAAAAAAAAAAAA7vgCsg2qQr8YYeCwmhYzv+azqckVeCK/AAAAAAAAAAAAAAAAAAAAAAAAAAAAAAAAAAAAAAAAAAA=\",\"dtype\":\"float64\",\"shape\":[10]},\"top\":{\"__ndarray__\":\"XkN5DeU1JD/Wi0UM+lwfP5RvMxejyAY/AAAAAAAAAAAAAAAAAAAAAAAAAAAAAAAAHEyNqhdjST86iamAsYYrP43sBCv15RY/rhiZqprYTz8=\",\"dtype\":\"float64\",\"shape\":[10]},\"x\":[2006,2007,2008,2009,2010,2011,2012,2013,2014,2015]},\"selected\":null,\"selection_policy\":null},\"id\":\"b34387b3-0610-40db-b8bc-b03668989e09\",\"type\":\"ColumnDataSource\"},{\"attributes\":{},\"id\":\"b418c4f4-adeb-4fe3-b7b1-6cd930379424\",\"type\":\"ResetTool\"},{\"attributes\":{\"dimension\":1,\"plot\":{\"id\":\"48459805-0a73-4b9a-939b-3b5203b4edb2\",\"subtype\":\"Figure\",\"type\":\"Plot\"},\"ticker\":{\"id\":\"80b28851-7080-48a4-aee8-7fbe69e073e7\",\"type\":\"BasicTicker\"}},\"id\":\"5259ad7c-0ed4-4bab-aa6b-924cdaff9bfe\",\"type\":\"Grid\"},{\"attributes\":{},\"id\":\"80b28851-7080-48a4-aee8-7fbe69e073e7\",\"type\":\"BasicTicker\"},{\"attributes\":{},\"id\":\"45dcb1d3-9300-4112-8f9a-9712d39c44af\",\"type\":\"SaveTool\"},{\"attributes\":{\"overlay\":{\"id\":\"319b21f1-66aa-497b-9e3e-2c1474574f1b\",\"type\":\"BoxAnnotation\"}},\"id\":\"79d704f9-3a03-4243-b0d5-1f9a115d4524\",\"type\":\"BoxZoomTool\"},{\"attributes\":{\"data_source\":{\"id\":\"b34387b3-0610-40db-b8bc-b03668989e09\",\"type\":\"ColumnDataSource\"},\"glyph\":{\"id\":\"5294d2bd-0a1f-4dc4-af18-f308e8879643\",\"type\":\"VBar\"},\"hover_glyph\":null,\"muted_glyph\":null,\"nonselection_glyph\":{\"id\":\"46d44045-0b3b-42c6-9db0-6e38ffee6bd7\",\"type\":\"VBar\"},\"selection_glyph\":null,\"view\":{\"id\":\"126c7498-7e10-4746-9430-8b7a79deef47\",\"type\":\"CDSView\"}},\"id\":\"72580478-2a6f-4e8e-a042-93210332e55d\",\"type\":\"GlyphRenderer\"},{\"attributes\":{\"source\":{\"id\":\"6e8b0a46-3c10-4d03-8f99-0ece71082e18\",\"type\":\"ColumnDataSource\"}},\"id\":\"6fb70821-0a0e-4538-9da9-6a8a9f4916eb\",\"type\":\"CDSView\"},{\"attributes\":{\"bottom\":{\"field\":\"bottom\"},\"fill_alpha\":{\"value\":0.1},\"fill_color\":{\"value\":\"#1f77b4\"},\"line_alpha\":{\"value\":0.1},\"line_color\":{\"value\":\"#1f77b4\"},\"top\":{\"field\":\"top\"},\"width\":{\"value\":0.5},\"x\":{\"field\":\"x\"}},\"id\":\"a25a22aa-9be7-43df-bfa2-bcef4f368274\",\"type\":\"VBar\"},{\"attributes\":{\"label\":{\"value\":\"LARCENY/THEFT\"},\"renderers\":[{\"id\":\"aae3d2d2-7295-4d14-be63-203892070715\",\"type\":\"GlyphRenderer\"}]},\"id\":\"78ff61e9-ebba-41d3-bb7f-e0b462a5dc94\",\"type\":\"LegendItem\"},{\"attributes\":{\"bottom\":{\"field\":\"bottom\"},\"fill_color\":{\"value\":\"#2166ac\"},\"line_color\":{\"value\":\"#2166ac\"},\"top\":{\"field\":\"top\"},\"width\":{\"value\":0.5},\"x\":{\"field\":\"x\"}},\"id\":\"5294d2bd-0a1f-4dc4-af18-f308e8879643\",\"type\":\"VBar\"},{\"attributes\":{\"active_drag\":\"auto\",\"active_inspect\":\"auto\",\"active_scroll\":\"auto\",\"active_tap\":\"auto\",\"tools\":[{\"id\":\"5e0b7c73-adf0-4b61-9aca-6e55477a303e\",\"type\":\"PanTool\"},{\"id\":\"79d704f9-3a03-4243-b0d5-1f9a115d4524\",\"type\":\"BoxZoomTool\"},{\"id\":\"b418c4f4-adeb-4fe3-b7b1-6cd930379424\",\"type\":\"ResetTool\"},{\"id\":\"45dcb1d3-9300-4112-8f9a-9712d39c44af\",\"type\":\"SaveTool\"}]},\"id\":\"8637c572-fb22-45a9-a5c8-512bc32c650d\",\"type\":\"Toolbar\"},{\"attributes\":{\"data_source\":{\"id\":\"6e8b0a46-3c10-4d03-8f99-0ece71082e18\",\"type\":\"ColumnDataSource\"},\"glyph\":{\"id\":\"34245df2-20e9-40ba-ba7d-094b8d922792\",\"type\":\"VBar\"},\"hover_glyph\":null,\"muted_glyph\":null,\"nonselection_glyph\":{\"id\":\"606f11cd-729b-424d-b716-b68e88e56b12\",\"type\":\"VBar\"},\"selection_glyph\":null,\"view\":{\"id\":\"6fb70821-0a0e-4538-9da9-6a8a9f4916eb\",\"type\":\"CDSView\"}},\"id\":\"012fb442-680f-4516-a95f-d7452e7e3e0b\",\"type\":\"GlyphRenderer\"},{\"attributes\":{\"callback\":null,\"column_names\":[\"x\",\"top\",\"bottom\"],\"data\":{\"bottom\":{\"__ndarray__\":\"XkN5DeU1JD+S54Luyvmvv/Cbkp3oM3Q/sNYIqCqWiL/v8/fy3/Ohv2l9dBATKUA/tloKtbkZnj86iamAsYYrP43sBCv15RY/rhiZqprYTz8=\",\"dtype\":\"float64\",\"shape\":[10]},\"top\":{\"__ndarray__\":\"mM5iOovpoT9yg7dTKKafvxAL7S/ofnc/65SJFK5Afb9bKA0aEoyDvwKET/60y6E/iLucvJ+Nwj8Kyak3OZ+6P43w1uQgjZw/q4G1aaOvsT8=\",\"dtype\":\"float64\",\"shape\":[10]},\"x\":[2006,2007,2008,2009,2010,2011,2012,2013,2014,2015]},\"selected\":null,\"selection_policy\":null},\"id\":\"7a6be2f5-3c7c-4836-b561-e21c8affc9e3\",\"type\":\"ColumnDataSource\"},{\"attributes\":{\"below\":[{\"id\":\"bbff1316-50b2-48d0-a15e-2cade52e652b\",\"type\":\"LinearAxis\"}],\"left\":[{\"id\":\"ef24f851-228d-4a1a-9584-c11feb2ee292\",\"type\":\"LinearAxis\"}],\"renderers\":[{\"id\":\"bbff1316-50b2-48d0-a15e-2cade52e652b\",\"type\":\"LinearAxis\"},{\"id\":\"ace7047f-1597-4e32-bc53-f4f539bb259f\",\"type\":\"Grid\"},{\"id\":\"ef24f851-228d-4a1a-9584-c11feb2ee292\",\"type\":\"LinearAxis\"},{\"id\":\"5259ad7c-0ed4-4bab-aa6b-924cdaff9bfe\",\"type\":\"Grid\"},{\"id\":\"319b21f1-66aa-497b-9e3e-2c1474574f1b\",\"type\":\"BoxAnnotation\"},{\"id\":\"a23d0e2b-d27e-4a88-b405-359e2baa2071\",\"type\":\"Legend\"},{\"id\":\"72580478-2a6f-4e8e-a042-93210332e55d\",\"type\":\"GlyphRenderer\"},{\"id\":\"7ac94331-e6c6-47d5-a286-ce0ce5e8c731\",\"type\":\"GlyphRenderer\"},{\"id\":\"aae3d2d2-7295-4d14-be63-203892070715\",\"type\":\"GlyphRenderer\"},{\"id\":\"012fb442-680f-4516-a95f-d7452e7e3e0b\",\"type\":\"GlyphRenderer\"},{\"id\":\"b4ad06a4-0713-41c7-978c-466f1cbeb595\",\"type\":\"GlyphRenderer\"},{\"id\":\"12d90f9d-40f3-468e-a136-492aa1983a33\",\"type\":\"GlyphRenderer\"}],\"title\":{\"id\":\"3ab816a2-2c96-4147-acd1-0323d6e59ba7\",\"type\":\"Title\"},\"toolbar\":{\"id\":\"8637c572-fb22-45a9-a5c8-512bc32c650d\",\"type\":\"Toolbar\"},\"x_range\":{\"id\":\"cad7a6aa-358e-4b3a-b8c5-898ce4a11719\",\"type\":\"DataRange1d\"},\"x_scale\":{\"id\":\"17801f8a-5101-41de-8768-510be226631a\",\"type\":\"LinearScale\"},\"y_range\":{\"id\":\"48bec032-e392-4aa0-bfc5-ea57fc170096\",\"type\":\"DataRange1d\"},\"y_scale\":{\"id\":\"4253c072-411b-4009-98aa-9d2bfeaba5c1\",\"type\":\"LinearScale\"}},\"id\":\"48459805-0a73-4b9a-939b-3b5203b4edb2\",\"subtype\":\"Figure\",\"type\":\"Plot\"},{\"attributes\":{\"bottom_units\":\"screen\",\"fill_alpha\":{\"value\":0.5},\"fill_color\":{\"value\":\"lightgrey\"},\"left_units\":\"screen\",\"level\":\"overlay\",\"line_alpha\":{\"value\":1.0},\"line_color\":{\"value\":\"black\"},\"line_dash\":[4,4],\"line_width\":{\"value\":2},\"plot\":null,\"render_mode\":\"css\",\"right_units\":\"screen\",\"top_units\":\"screen\"},\"id\":\"319b21f1-66aa-497b-9e3e-2c1474574f1b\",\"type\":\"BoxAnnotation\"},{\"attributes\":{\"label\":{\"value\":\"STOLEN PROPERTY\"},\"renderers\":[{\"id\":\"012fb442-680f-4516-a95f-d7452e7e3e0b\",\"type\":\"GlyphRenderer\"}]},\"id\":\"889f88ae-be43-4cb9-bc83-f602298aba0a\",\"type\":\"LegendItem\"},{\"attributes\":{\"label\":{\"value\":\"BURGLARY\"},\"renderers\":[{\"id\":\"7ac94331-e6c6-47d5-a286-ce0ce5e8c731\",\"type\":\"GlyphRenderer\"}]},\"id\":\"3dcb6d22-d5cb-4f34-b65b-559c2f893988\",\"type\":\"LegendItem\"},{\"attributes\":{\"callback\":null,\"column_names\":[\"x\",\"top\",\"bottom\"],\"data\":{\"bottom\":{\"__ndarray__\":\"mM5iOovpoT/h/llrnzuwv4bdGXq3oSm/AAAAAAAAAAAAAAAAAAAAAAKET/60y6E/iLucvJ+Nwj8Kyak3OZ+6P3PwXEu1P3O/JHHnAkXYcb8=\",\"dtype\":\"float64\",\"shape\":[10]},\"top\":{\"__ndarray__\":\"gvsI7iM4oj+S54LuyvmvvwAAAAAAAAAAWDb6d+F7aT900DFL2l09P86dmHvqDqM/fi0NwWL7wj+cB4QOkgy8P+uRFRE0dmK/kTB65fiHYr8=\",\"dtype\":\"float64\",\"shape\":[10]},\"x\":[2006,2007,2008,2009,2010,2011,2012,2013,2014,2015]},\"selected\":null,\"selection_policy\":null},\"id\":\"6e8b0a46-3c10-4d03-8f99-0ece71082e18\",\"type\":\"ColumnDataSource\"},{\"attributes\":{\"bottom\":{\"field\":\"bottom\"},\"fill_alpha\":{\"value\":0.1},\"fill_color\":{\"value\":\"#1f77b4\"},\"line_alpha\":{\"value\":0.1},\"line_color\":{\"value\":\"#1f77b4\"},\"top\":{\"field\":\"top\"},\"width\":{\"value\":0.5},\"x\":{\"field\":\"x\"}},\"id\":\"606f11cd-729b-424d-b716-b68e88e56b12\",\"type\":\"VBar\"},{\"attributes\":{\"callback\":null,\"column_names\":[\"x\",\"top\",\"bottom\"],\"data\":{\"bottom\":{\"__ndarray__\":\"gvsI7iM4oj+9tW1iDduwv43QHXCcvHS/WDb6d+F7aT900DFL2l09P5oDBcb7wpC/fi0NwWL7wj8glXDfcUeSv43w1uQgjZw/q4G1aaOvsT8=\",\"dtype\":\"float64\",\"shape\":[10]},\"top\":{\"__ndarray__\":\"P4L7CO4jqD/h/llrnzuwv4bdGXq3oSm/Ilmlmzkggj//PR9hUw+AP+azqckVeCK/0aTqYEKhxD8oZ4pGTQdOvwaK6zZIdaA/2EPpy7Dfsz8=\",\"dtype\":\"float64\",\"shape\":[10]},\"x\":[2006,2007,2008,2009,2010,2011,2012,2013,2014,2015]},\"selected\":null,\"selection_policy\":null},\"id\":\"97bef8d6-e7e3-40fd-adb8-30e33712a3b0\",\"type\":\"ColumnDataSource\"},{\"attributes\":{\"ticks\":[2006,2007,2008,2009,2010,2011,2012,2013,2014,2015]},\"id\":\"2075b71d-6591-45bc-8d1f-6af7670fc50c\",\"type\":\"FixedTicker\"},{\"attributes\":{\"bottom\":{\"field\":\"bottom\"},\"fill_color\":{\"value\":\"#fddbc7\"},\"line_color\":{\"value\":\"#fddbc7\"},\"top\":{\"field\":\"top\"},\"width\":{\"value\":0.5},\"x\":{\"field\":\"x\"}},\"id\":\"34245df2-20e9-40ba-ba7d-094b8d922792\",\"type\":\"VBar\"},{\"attributes\":{\"label\":{\"value\":\"VEHICLE THEFT\"},\"renderers\":[{\"id\":\"12d90f9d-40f3-468e-a136-492aa1983a33\",\"type\":\"GlyphRenderer\"}]},\"id\":\"e8c5c07e-e9e6-4b49-ba00-d110fc478c20\",\"type\":\"LegendItem\"},{\"attributes\":{\"format\":\"0%\"},\"id\":\"b320deb8-881c-4441-9484-4b9268d4aea9\",\"type\":\"NumeralTickFormatter\"},{\"attributes\":{\"bottom\":{\"field\":\"bottom\"},\"fill_alpha\":{\"value\":0.1},\"fill_color\":{\"value\":\"#1f77b4\"},\"line_alpha\":{\"value\":0.1},\"line_color\":{\"value\":\"#1f77b4\"},\"top\":{\"field\":\"top\"},\"width\":{\"value\":0.5},\"x\":{\"field\":\"x\"}},\"id\":\"53033251-89cf-4978-ae6c-9ea301900dd1\",\"type\":\"VBar\"},{\"attributes\":{\"source\":{\"id\":\"715ae7e0-e01b-4ee2-82c3-3c23383a4023\",\"type\":\"ColumnDataSource\"}},\"id\":\"14a33301-5b2c-463d-b2e0-3a059b2ffc1c\",\"type\":\"CDSView\"},{\"attributes\":{\"bottom\":{\"field\":\"bottom\"},\"fill_color\":{\"value\":\"#67a9cf\"},\"line_color\":{\"value\":\"#67a9cf\"},\"top\":{\"field\":\"top\"},\"width\":{\"value\":0.5},\"x\":{\"field\":\"x\"}},\"id\":\"e57fbcfa-375d-45b3-9eb1-b8b88c3d15f0\",\"type\":\"VBar\"},{\"attributes\":{\"bottom\":{\"field\":\"bottom\"},\"fill_color\":{\"value\":\"#ef8a62\"},\"line_color\":{\"value\":\"#ef8a62\"},\"top\":{\"field\":\"top\"},\"width\":{\"value\":0.5},\"x\":{\"field\":\"x\"}},\"id\":\"20634105-d282-4dc8-9793-6afd81c6487a\",\"type\":\"VBar\"},{\"attributes\":{\"label\":{\"value\":\"ARSON\"},\"renderers\":[{\"id\":\"72580478-2a6f-4e8e-a042-93210332e55d\",\"type\":\"GlyphRenderer\"}]},\"id\":\"ad82dbe9-42b1-4c2b-83f1-40ca01e10064\",\"type\":\"LegendItem\"},{\"attributes\":{\"data_source\":{\"id\":\"715ae7e0-e01b-4ee2-82c3-3c23383a4023\",\"type\":\"ColumnDataSource\"},\"glyph\":{\"id\":\"e57fbcfa-375d-45b3-9eb1-b8b88c3d15f0\",\"type\":\"VBar\"},\"hover_glyph\":null,\"muted_glyph\":null,\"nonselection_glyph\":{\"id\":\"a25a22aa-9be7-43df-bfa2-bcef4f368274\",\"type\":\"VBar\"},\"selection_glyph\":null,\"view\":{\"id\":\"14a33301-5b2c-463d-b2e0-3a059b2ffc1c\",\"type\":\"CDSView\"}},\"id\":\"7ac94331-e6c6-47d5-a286-ce0ce5e8c731\",\"type\":\"GlyphRenderer\"},{\"attributes\":{\"bottom\":{\"field\":\"bottom\"},\"fill_alpha\":{\"value\":0.1},\"fill_color\":{\"value\":\"#1f77b4\"},\"line_alpha\":{\"value\":0.1},\"line_color\":{\"value\":\"#1f77b4\"},\"top\":{\"field\":\"top\"},\"width\":{\"value\":0.5},\"x\":{\"field\":\"x\"}},\"id\":\"46d44045-0b3b-42c6-9db0-6e38ffee6bd7\",\"type\":\"VBar\"},{\"attributes\":{\"bottom\":{\"field\":\"bottom\"},\"fill_alpha\":{\"value\":0.1},\"fill_color\":{\"value\":\"#1f77b4\"},\"line_alpha\":{\"value\":0.1},\"line_color\":{\"value\":\"#1f77b4\"},\"top\":{\"field\":\"top\"},\"width\":{\"value\":0.5},\"x\":{\"field\":\"x\"}},\"id\":\"fc3bde7d-173d-41d0-af50-89e1fbcf9887\",\"type\":\"VBar\"},{\"attributes\":{\"callback\":null},\"id\":\"cad7a6aa-358e-4b3a-b8c5-898ce4a11719\",\"type\":\"DataRange1d\"},{\"attributes\":{\"data_source\":{\"id\":\"11f24fb9-9b6a-4852-b508-b8aec046ffb9\",\"type\":\"ColumnDataSource\"},\"glyph\":{\"id\":\"8eb58fc2-ee21-491d-a144-bb60b2769378\",\"type\":\"VBar\"},\"hover_glyph\":null,\"muted_glyph\":null,\"nonselection_glyph\":{\"id\":\"5233e0c4-2f8e-437b-bc1d-a4da58d26134\",\"type\":\"VBar\"},\"selection_glyph\":null,\"view\":{\"id\":\"e3595be7-43a3-4b59-9942-f3d94b2e3c1e\",\"type\":\"CDSView\"}},\"id\":\"12d90f9d-40f3-468e-a136-492aa1983a33\",\"type\":\"GlyphRenderer\"},{\"attributes\":{\"source\":{\"id\":\"b34387b3-0610-40db-b8bc-b03668989e09\",\"type\":\"ColumnDataSource\"}},\"id\":\"126c7498-7e10-4746-9430-8b7a79deef47\",\"type\":\"CDSView\"},{\"attributes\":{\"source\":{\"id\":\"97bef8d6-e7e3-40fd-adb8-30e33712a3b0\",\"type\":\"ColumnDataSource\"}},\"id\":\"0bad8b2f-8836-49f0-8267-18b89eba1102\",\"type\":\"CDSView\"},{\"attributes\":{},\"id\":\"5e0b7c73-adf0-4b61-9aca-6e55477a303e\",\"type\":\"PanTool\"},{\"attributes\":{\"bottom\":{\"field\":\"bottom\"},\"fill_color\":{\"value\":\"#d1e5f0\"},\"line_color\":{\"value\":\"#d1e5f0\"},\"top\":{\"field\":\"top\"},\"width\":{\"value\":0.5},\"x\":{\"field\":\"x\"}},\"id\":\"500501cf-ab56-4152-9c5e-12839844e9e0\",\"type\":\"VBar\"},{\"attributes\":{\"callback\":null,\"column_names\":[\"x\",\"top\",\"bottom\"],\"data\":{\"bottom\":{\"__ndarray__\":\"6iyms5jOUr9yg7dTKKafv5RvMxejyAY/65SJFK5Afb9bKA0aEoyDvwAAAAAAAAAAHEyNqhdjST8oZ4pGTQdOv+uRFRE0dmK/kTB65fiHYr8=\",\"dtype\":\"float64\",\"shape\":[10]},\"top\":{\"__ndarray__\":\"AAAAAAAAAAAAAAAAAAAAAPCbkp3oM3Q/7vgCsg2qQr8YYeCwmhYzv2l9dBATKUA/tloKtbkZnj8AAAAAAAAAAAAAAAAAAAAAAAAAAAAAAAA=\",\"dtype\":\"float64\",\"shape\":[10]},\"x\":[2006,2007,2008,2009,2010,2011,2012,2013,2014,2015]},\"selected\":null,\"selection_policy\":null},\"id\":\"715ae7e0-e01b-4ee2-82c3-3c23383a4023\",\"type\":\"ColumnDataSource\"},{\"attributes\":{\"formatter\":{\"id\":\"b320deb8-881c-4441-9484-4b9268d4aea9\",\"type\":\"NumeralTickFormatter\"},\"plot\":{\"id\":\"48459805-0a73-4b9a-939b-3b5203b4edb2\",\"subtype\":\"Figure\",\"type\":\"Plot\"},\"ticker\":{\"id\":\"80b28851-7080-48a4-aee8-7fbe69e073e7\",\"type\":\"BasicTicker\"}},\"id\":\"ef24f851-228d-4a1a-9584-c11feb2ee292\",\"type\":\"LinearAxis\"},{\"attributes\":{\"plot\":null,\"text\":\"Contributions to total growth\"},\"id\":\"3ab816a2-2c96-4147-acd1-0323d6e59ba7\",\"type\":\"Title\"},{\"attributes\":{\"data_source\":{\"id\":\"7a6be2f5-3c7c-4836-b561-e21c8affc9e3\",\"type\":\"ColumnDataSource\"},\"glyph\":{\"id\":\"500501cf-ab56-4152-9c5e-12839844e9e0\",\"type\":\"VBar\"},\"hover_glyph\":null,\"muted_glyph\":null,\"nonselection_glyph\":{\"id\":\"fc3bde7d-173d-41d0-af50-89e1fbcf9887\",\"type\":\"VBar\"},\"selection_glyph\":null,\"view\":{\"id\":\"164bdc97-befe-4a74-bbc7-b2ab972a665a\",\"type\":\"CDSView\"}},\"id\":\"aae3d2d2-7295-4d14-be63-203892070715\",\"type\":\"GlyphRenderer\"},{\"attributes\":{\"bottom\":{\"field\":\"bottom\"},\"fill_color\":{\"value\":\"#b2182b\"},\"line_color\":{\"value\":\"#b2182b\"},\"top\":{\"field\":\"top\"},\"width\":{\"value\":0.5},\"x\":{\"field\":\"x\"}},\"id\":\"8eb58fc2-ee21-491d-a144-bb60b2769378\",\"type\":\"VBar\"},{\"attributes\":{},\"id\":\"4253c072-411b-4009-98aa-9d2bfeaba5c1\",\"type\":\"LinearScale\"},{\"attributes\":{\"data_source\":{\"id\":\"97bef8d6-e7e3-40fd-adb8-30e33712a3b0\",\"type\":\"ColumnDataSource\"},\"glyph\":{\"id\":\"20634105-d282-4dc8-9793-6afd81c6487a\",\"type\":\"VBar\"},\"hover_glyph\":null,\"muted_glyph\":null,\"nonselection_glyph\":{\"id\":\"53033251-89cf-4978-ae6c-9ea301900dd1\",\"type\":\"VBar\"},\"selection_glyph\":null,\"view\":{\"id\":\"0bad8b2f-8836-49f0-8267-18b89eba1102\",\"type\":\"CDSView\"}},\"id\":\"b4ad06a4-0713-41c7-978c-466f1cbeb595\",\"type\":\"GlyphRenderer\"},{\"attributes\":{\"callback\":null},\"id\":\"48bec032-e392-4aa0-bfc5-ea57fc170096\",\"type\":\"DataRange1d\"},{\"attributes\":{},\"id\":\"bf5b1b3e-10af-48a5-809a-92fb4a2ebcfa\",\"type\":\"BasicTickFormatter\"},{\"attributes\":{\"label\":{\"value\":\"VANDALISM\"},\"renderers\":[{\"id\":\"b4ad06a4-0713-41c7-978c-466f1cbeb595\",\"type\":\"GlyphRenderer\"}]},\"id\":\"98c85525-019e-46d5-8ceb-ebc97e2f3a54\",\"type\":\"LegendItem\"},{\"attributes\":{},\"id\":\"17801f8a-5101-41de-8768-510be226631a\",\"type\":\"LinearScale\"},{\"attributes\":{\"source\":{\"id\":\"7a6be2f5-3c7c-4836-b561-e21c8affc9e3\",\"type\":\"ColumnDataSource\"}},\"id\":\"164bdc97-befe-4a74-bbc7-b2ab972a665a\",\"type\":\"CDSView\"},{\"attributes\":{\"source\":{\"id\":\"11f24fb9-9b6a-4852-b508-b8aec046ffb9\",\"type\":\"ColumnDataSource\"}},\"id\":\"e3595be7-43a3-4b59-9942-f3d94b2e3c1e\",\"type\":\"CDSView\"},{\"attributes\":{\"axis_label\":\"Year\",\"formatter\":{\"id\":\"bf5b1b3e-10af-48a5-809a-92fb4a2ebcfa\",\"type\":\"BasicTickFormatter\"},\"plot\":{\"id\":\"48459805-0a73-4b9a-939b-3b5203b4edb2\",\"subtype\":\"Figure\",\"type\":\"Plot\"},\"ticker\":{\"id\":\"2075b71d-6591-45bc-8d1f-6af7670fc50c\",\"type\":\"FixedTicker\"}},\"id\":\"bbff1316-50b2-48d0-a15e-2cade52e652b\",\"type\":\"LinearAxis\"},{\"attributes\":{\"plot\":{\"id\":\"48459805-0a73-4b9a-939b-3b5203b4edb2\",\"subtype\":\"Figure\",\"type\":\"Plot\"},\"ticker\":{\"id\":\"86ebca23-d79f-4090-a6b9-6469ad7afa94\",\"type\":\"BasicTicker\"}},\"id\":\"ace7047f-1597-4e32-bc53-f4f539bb259f\",\"type\":\"Grid\"},{\"attributes\":{\"callback\":null,\"column_names\":[\"x\",\"top\",\"bottom\"],\"data\":{\"bottom\":{\"__ndarray__\":\"6iyms5gOyL/HnVa0ABm1v3hLAN3Leoy/80vGfl3Pn79jvY043I2rv86dmHvqDqM/0aTqYEKhxD+cB4QOkgy8PwaK6zZIdaA/2EPpy7Dfsz8=\",\"dtype\":\"float64\",\"shape\":[10]},\"top\":{\"__ndarray__\":\"6iyms5jOUr+9tW1iDduwv43QHXCcvHS/sNYIqCqWiL/v8/fy3/Ohv9yTNmJwD6g/cvJ+NkrGyD/AgO6zI1W8P7yBMPKPNqg/3BpXkqN0tz8=\",\"dtype\":\"float64\",\"shape\":[10]},\"x\":[2006,2007,2008,2009,2010,2011,2012,2013,2014,2015]},\"selected\":null,\"selection_policy\":null},\"id\":\"11f24fb9-9b6a-4852-b508-b8aec046ffb9\",\"type\":\"ColumnDataSource\"},{\"attributes\":{\"items\":[{\"id\":\"ad82dbe9-42b1-4c2b-83f1-40ca01e10064\",\"type\":\"LegendItem\"},{\"id\":\"3dcb6d22-d5cb-4f34-b65b-559c2f893988\",\"type\":\"LegendItem\"},{\"id\":\"78ff61e9-ebba-41d3-bb7f-e0b462a5dc94\",\"type\":\"LegendItem\"},{\"id\":\"889f88ae-be43-4cb9-bc83-f602298aba0a\",\"type\":\"LegendItem\"},{\"id\":\"98c85525-019e-46d5-8ceb-ebc97e2f3a54\",\"type\":\"LegendItem\"},{\"id\":\"e8c5c07e-e9e6-4b49-ba00-d110fc478c20\",\"type\":\"LegendItem\"}],\"location\":\"top_left\",\"plot\":{\"id\":\"48459805-0a73-4b9a-939b-3b5203b4edb2\",\"subtype\":\"Figure\",\"type\":\"Plot\"}},\"id\":\"a23d0e2b-d27e-4a88-b405-359e2baa2071\",\"type\":\"Legend\"},{\"attributes\":{\"bottom\":{\"field\":\"bottom\"},\"fill_alpha\":{\"value\":0.1},\"fill_color\":{\"value\":\"#1f77b4\"},\"line_alpha\":{\"value\":0.1},\"line_color\":{\"value\":\"#1f77b4\"},\"top\":{\"field\":\"top\"},\"width\":{\"value\":0.5},\"x\":{\"field\":\"x\"}},\"id\":\"5233e0c4-2f8e-437b-bc1d-a4da58d26134\",\"type\":\"VBar\"},{\"attributes\":{},\"id\":\"86ebca23-d79f-4090-a6b9-6469ad7afa94\",\"type\":\"BasicTicker\"}],\"root_ids\":[\"48459805-0a73-4b9a-939b-3b5203b4edb2\"]},\"title\":\"Bokeh Application\",\"version\":\"0.12.15\"}};\n",
       "  var render_items = [{\"docid\":\"9fb1987b-5b05-46da-98aa-2b4c1143579e\",\"elementid\":\"d2a14abd-fbf3-414e-9828-e35a9e7f79cf\",\"modelid\":\"48459805-0a73-4b9a-939b-3b5203b4edb2\"}];\n",
       "  root.Bokeh.embed.embed_items_notebook(docs_json, render_items);\n",
       "\n",
       "  }\n",
       "  if (root.Bokeh !== undefined) {\n",
       "    embed_document(root);\n",
       "  } else {\n",
       "    var attempts = 0;\n",
       "    var timer = setInterval(function(root) {\n",
       "      if (root.Bokeh !== undefined) {\n",
       "        embed_document(root);\n",
       "        clearInterval(timer);\n",
       "      }\n",
       "      attempts++;\n",
       "      if (attempts > 100) {\n",
       "        console.log(\"Bokeh: ERROR: Unable to run BokehJS code because BokehJS library is missing\")\n",
       "        clearInterval(timer);\n",
       "      }\n",
       "    }, 10, root)\n",
       "  }\n",
       "})(window);"
      ],
      "application/vnd.bokehjs_exec.v0+json": ""
     },
     "metadata": {
      "application/vnd.bokehjs_exec.v0+json": {
       "id": "48459805-0a73-4b9a-939b-3b5203b4edb2"
      }
     },
     "output_type": "display_data"
    }
   ],
   "source": [
    "plot_contributions(df, total_growth=False, legend_loc='top_left', palette='RdBu')"
   ]
  },
  {
   "cell_type": "markdown",
   "metadata": {},
   "source": [
    "<img src=\"bokeh_plot(2).png\" width=\"60%\" align=\"left\">"
   ]
  },
  {
   "cell_type": "markdown",
   "metadata": {},
   "source": [
    "For more information on color palette choices refer to https://bokeh.pydata.org/en/latest/docs/reference/palettes.html"
   ]
  }
 ],
 "metadata": {
  "kernelspec": {
   "display_name": "Python 3",
   "language": "python",
   "name": "python3"
  },
  "language_info": {
   "codemirror_mode": {
    "name": "ipython",
    "version": 3
   },
   "file_extension": ".py",
   "mimetype": "text/x-python",
   "name": "python",
   "nbconvert_exporter": "python",
   "pygments_lexer": "ipython3",
   "version": "3.6.2"
  }
 },
 "nbformat": 4,
 "nbformat_minor": 2
}
